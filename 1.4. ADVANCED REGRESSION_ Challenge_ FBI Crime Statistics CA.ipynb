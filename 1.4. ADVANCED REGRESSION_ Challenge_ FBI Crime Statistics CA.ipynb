{
 "cells": [
  {
   "cell_type": "markdown",
   "metadata": {},
   "source": [
    "## Challenge "
   ]
  },
  {
   "cell_type": "markdown",
   "metadata": {},
   "source": [
    "Now that you have two new regression methods at your fingertips, it's time to give them a spin. In fact, for this challenge, let's put them together! Pick a dataset of your choice with a binary outcome and the potential for at least 15 features. If you're drawing a blank, the [crime rates in 2013](https://ucr.fbi.gov/crime-in-the-u.s/2013/crime-in-the-u.s.-2013/tables/table-8/table_8_offenses_known_to_law_enforcement_by_state_by_city_2013.xls/view) dataset has a lot of variables that could be made into a modelable binary outcome. \n",
    "\n",
    "Engineer your features, then create three models. Each model will be run on a training set and a test-set (or multiple test-sets, if you take a folds approach). The models should be:\n",
    "\n",
    "1. Vanilla logistic regression\n",
    "2. Ridge logistic regression\n",
    "3. Lasso logistic regression\n",
    "\n",
    "If you're stuck on how to begin combining your two new modeling skills, here's a hint: the [SKlearn LogisticRegression method](https://scikit-learn.org/stable/modules/generated/sklearn.linear_model.LogisticRegression.html) has a \"penalty\" argument that takes either 'l1' or 'l2' as a value.\n",
    "\n",
    "In your report, evaluate all three models and decide on your best. Be clear about the decisions you made that led to these models (feature selection, regularization parameter selection, model evaluation criteria) and why you think that particular model is the best of the three. Also reflect on the strengths and limitations of regression as a modeling approach. Were there things you couldn't do but you wish you could have done?\n",
    "\n",
    "Record your work and reflections in a notebook to discuss with your mentor."
   ]
  },
  {
   "cell_type": "code",
   "execution_count": 1,
   "metadata": {},
   "outputs": [],
   "source": [
    "import numpy as np\n",
    "import matplotlib.pyplot as plt\n",
    "%matplotlib inline\n",
    "import pandas as pd\n",
    "import seaborn as sns\n",
    "from sklearn import metrics\n",
    "from pandas import Series, DataFrame\n",
    "from sklearn.model_selection import train_test_split\n",
    "from sklearn.model_selection import cross_val_score\n",
    "from sklearn.linear_model import LogisticRegression\n",
    "from sklearn import linear_model\n",
    "import statsmodels.api as sm"
   ]
  },
  {
   "cell_type": "code",
   "execution_count": 2,
   "metadata": {},
   "outputs": [],
   "source": [
    "ca = pd.read_csv(\"C:/Users/ushai/Dropbox/Data Science/Datasets/FBI/california_2017.csv\")"
   ]
  },
  {
   "cell_type": "code",
   "execution_count": 3,
   "metadata": {},
   "outputs": [
    {
     "data": {
      "text/html": [
       "<div>\n",
       "<style scoped>\n",
       "    .dataframe tbody tr th:only-of-type {\n",
       "        vertical-align: middle;\n",
       "    }\n",
       "\n",
       "    .dataframe tbody tr th {\n",
       "        vertical-align: top;\n",
       "    }\n",
       "\n",
       "    .dataframe thead th {\n",
       "        text-align: right;\n",
       "    }\n",
       "</style>\n",
       "<table border=\"1\" class=\"dataframe\">\n",
       "  <thead>\n",
       "    <tr style=\"text-align: right;\">\n",
       "      <th></th>\n",
       "      <th>State</th>\n",
       "      <th>Population</th>\n",
       "      <th>Violent\n",
       "crime</th>\n",
       "      <th>Murder and\n",
       "nonnegligent\n",
       "manslaughter</th>\n",
       "      <th>Rape1</th>\n",
       "      <th>Robbery</th>\n",
       "      <th>Aggravated\n",
       "assault</th>\n",
       "      <th>Property\n",
       "crime</th>\n",
       "      <th>Burglary</th>\n",
       "      <th>Larceny-\n",
       "theft</th>\n",
       "      <th>Motor\n",
       "vehicle\n",
       "theft</th>\n",
       "      <th>Arson</th>\n",
       "    </tr>\n",
       "  </thead>\n",
       "  <tbody>\n",
       "    <tr>\n",
       "      <th>0</th>\n",
       "      <td>Adelanto</td>\n",
       "      <td>33,693</td>\n",
       "      <td>238</td>\n",
       "      <td>2.0</td>\n",
       "      <td>28</td>\n",
       "      <td>48</td>\n",
       "      <td>160</td>\n",
       "      <td>578</td>\n",
       "      <td>190</td>\n",
       "      <td>290</td>\n",
       "      <td>98</td>\n",
       "      <td>13</td>\n",
       "    </tr>\n",
       "    <tr>\n",
       "      <th>1</th>\n",
       "      <td>Agoura Hills</td>\n",
       "      <td>20,814</td>\n",
       "      <td>16</td>\n",
       "      <td>0.0</td>\n",
       "      <td>2</td>\n",
       "      <td>4</td>\n",
       "      <td>10</td>\n",
       "      <td>278</td>\n",
       "      <td>71</td>\n",
       "      <td>187</td>\n",
       "      <td>20</td>\n",
       "      <td>4</td>\n",
       "    </tr>\n",
       "    <tr>\n",
       "      <th>2</th>\n",
       "      <td>Alameda</td>\n",
       "      <td>79,761</td>\n",
       "      <td>253</td>\n",
       "      <td>0.0</td>\n",
       "      <td>16</td>\n",
       "      <td>133</td>\n",
       "      <td>104</td>\n",
       "      <td>2,347</td>\n",
       "      <td>219</td>\n",
       "      <td>1,725</td>\n",
       "      <td>403</td>\n",
       "      <td>25</td>\n",
       "    </tr>\n",
       "    <tr>\n",
       "      <th>3</th>\n",
       "      <td>Albany</td>\n",
       "      <td>19,880</td>\n",
       "      <td>36</td>\n",
       "      <td>0.0</td>\n",
       "      <td>1</td>\n",
       "      <td>28</td>\n",
       "      <td>7</td>\n",
       "      <td>523</td>\n",
       "      <td>77</td>\n",
       "      <td>383</td>\n",
       "      <td>63</td>\n",
       "      <td>3</td>\n",
       "    </tr>\n",
       "    <tr>\n",
       "      <th>4</th>\n",
       "      <td>Alhambra</td>\n",
       "      <td>85,865</td>\n",
       "      <td>172</td>\n",
       "      <td>4.0</td>\n",
       "      <td>17</td>\n",
       "      <td>89</td>\n",
       "      <td>62</td>\n",
       "      <td>1,877</td>\n",
       "      <td>363</td>\n",
       "      <td>1,244</td>\n",
       "      <td>270</td>\n",
       "      <td>12</td>\n",
       "    </tr>\n",
       "  </tbody>\n",
       "</table>\n",
       "</div>"
      ],
      "text/plain": [
       "          State Population Violent\\ncrime  \\\n",
       "0      Adelanto     33,693            238   \n",
       "1  Agoura Hills     20,814             16   \n",
       "2       Alameda     79,761            253   \n",
       "3        Albany     19,880             36   \n",
       "4      Alhambra     85,865            172   \n",
       "\n",
       "   Murder and\\nnonnegligent\\nmanslaughter Rape1 Robbery Aggravated\\nassault  \\\n",
       "0                                     2.0    28      48                 160   \n",
       "1                                     0.0     2       4                  10   \n",
       "2                                     0.0    16     133                 104   \n",
       "3                                     0.0     1      28                   7   \n",
       "4                                     4.0    17      89                  62   \n",
       "\n",
       "  Property\\ncrime Burglary Larceny-\\ntheft Motor\\nvehicle\\ntheft Arson  \n",
       "0             578      190             290                    98    13  \n",
       "1             278       71             187                    20     4  \n",
       "2           2,347      219           1,725                   403    25  \n",
       "3             523       77             383                    63     3  \n",
       "4           1,877      363           1,244                   270    12  "
      ]
     },
     "execution_count": 3,
     "metadata": {},
     "output_type": "execute_result"
    }
   ],
   "source": [
    "ca.head(5)"
   ]
  },
  {
   "cell_type": "code",
   "execution_count": 4,
   "metadata": {},
   "outputs": [
    {
     "data": {
      "text/plain": [
       "2"
      ]
     },
     "execution_count": 4,
     "metadata": {},
     "output_type": "execute_result"
    }
   ],
   "source": [
    "# examine dimensions\n",
    "ca.ndim"
   ]
  },
  {
   "cell_type": "code",
   "execution_count": 5,
   "metadata": {},
   "outputs": [
    {
     "data": {
      "text/plain": [
       "(464, 12)"
      ]
     },
     "execution_count": 5,
     "metadata": {},
     "output_type": "execute_result"
    }
   ],
   "source": [
    "# examine shape of data\n",
    "ca.shape"
   ]
  },
  {
   "cell_type": "code",
   "execution_count": 6,
   "metadata": {},
   "outputs": [],
   "source": [
    "# Removing commas from population column\n",
    "ca['Population'] = ca['Population'].str.replace(',', '')"
   ]
  },
  {
   "cell_type": "code",
   "execution_count": 7,
   "metadata": {},
   "outputs": [
    {
     "data": {
      "text/plain": [
       "Index(['State', 'Population', 'Violent\\ncrime',\n",
       "       'Murder and\\nnonnegligent\\nmanslaughter', 'Rape1', 'Robbery',\n",
       "       'Aggravated\\nassault', 'Property\\ncrime', 'Burglary', 'Larceny-\\ntheft',\n",
       "       'Motor\\nvehicle\\ntheft', 'Arson'],\n",
       "      dtype='object')"
      ]
     },
     "execution_count": 7,
     "metadata": {},
     "output_type": "execute_result"
    }
   ],
   "source": [
    "# examine current columns\n",
    "ca.columns"
   ]
  },
  {
   "cell_type": "code",
   "execution_count": 8,
   "metadata": {},
   "outputs": [],
   "source": [
    "# Changing column names\n",
    "ca.rename(columns = {'State':'City','Violent\\ncrime': 'V_Crime', 'Murder and\\nnonnegligent\\nmanslaughter': 'Murder', 'Rape1':'Rape'\\\n",
    "                        ,'Property\\ncrime':'Property_crime','Larceny-\\ntheft':'Larceny_theft', 'Motor\\nvehicle\\ntheft':\\\n",
    "                       'Vehicle_theft', 'Aggravated\\nassault':'Agg_Assault'}, inplace=True)"
   ]
  },
  {
   "cell_type": "code",
   "execution_count": 9,
   "metadata": {},
   "outputs": [
    {
     "data": {
      "text/plain": [
       "Index(['City', 'Population', 'V_Crime', 'Murder', 'Rape', 'Robbery',\n",
       "       'Agg_Assault', 'Property_crime', 'Burglary', 'Larceny_theft',\n",
       "       'Vehicle_theft', 'Arson'],\n",
       "      dtype='object')"
      ]
     },
     "execution_count": 9,
     "metadata": {},
     "output_type": "execute_result"
    }
   ],
   "source": [
    "# verifying new column names\n",
    "ca.columns"
   ]
  },
  {
   "cell_type": "code",
   "execution_count": 10,
   "metadata": {},
   "outputs": [
    {
     "data": {
      "text/plain": [
       "City               object\n",
       "Population         object\n",
       "V_Crime            object\n",
       "Murder            float64\n",
       "Rape               object\n",
       "Robbery            object\n",
       "Agg_Assault        object\n",
       "Property_crime     object\n",
       "Burglary           object\n",
       "Larceny_theft      object\n",
       "Vehicle_theft      object\n",
       "Arson              object\n",
       "dtype: object"
      ]
     },
     "execution_count": 10,
     "metadata": {},
     "output_type": "execute_result"
    }
   ],
   "source": [
    "# examine data types\n",
    "ca.dtypes"
   ]
  },
  {
   "cell_type": "code",
   "execution_count": 11,
   "metadata": {},
   "outputs": [],
   "source": [
    "# Changing Data types \n",
    "ca['Population'] = pd.to_numeric(ca['Population'], errors='coerce')\n",
    "ca['V_Crime'] = pd.to_numeric(ca['V_Crime'], errors='coerce')\n",
    "ca['Murder'] = pd.to_numeric(ca['Murder'], errors='coerce')\n",
    "ca['Rape'] = pd.to_numeric(ca['Rape'], errors='coerce')\n",
    "ca['Robbery'] = pd.to_numeric(ca['Robbery'], errors='coerce')\n",
    "ca['Agg_Assault'] = pd.to_numeric(ca['Agg_Assault'], errors='coerce')\n",
    "ca['Property_crime'] = pd.to_numeric(ca['Property_crime'], errors='coerce')\n",
    "ca['Burglary'] = pd.to_numeric(ca['Burglary'], errors='coerce')\n",
    "ca['Larceny_theft'] = pd.to_numeric(ca['Larceny_theft'], errors='coerce')\n",
    "ca['Vehicle_theft'] = pd.to_numeric(ca['Vehicle_theft'], errors='coerce')\n",
    "ca['Arson'] = pd.to_numeric(ca['Arson'], errors='coerce')"
   ]
  },
  {
   "cell_type": "code",
   "execution_count": 12,
   "metadata": {},
   "outputs": [
    {
     "data": {
      "text/plain": [
       "City               object\n",
       "Population        float64\n",
       "V_Crime           float64\n",
       "Murder            float64\n",
       "Rape              float64\n",
       "Robbery           float64\n",
       "Agg_Assault       float64\n",
       "Property_crime    float64\n",
       "Burglary          float64\n",
       "Larceny_theft     float64\n",
       "Vehicle_theft     float64\n",
       "Arson             float64\n",
       "dtype: object"
      ]
     },
     "execution_count": 12,
     "metadata": {},
     "output_type": "execute_result"
    }
   ],
   "source": [
    "# Confirm Data types\n",
    "ca.dtypes"
   ]
  },
  {
   "cell_type": "code",
   "execution_count": 13,
   "metadata": {},
   "outputs": [
    {
     "data": {
      "text/plain": [
       "City                0\n",
       "Population          3\n",
       "V_Crime            23\n",
       "Murder              3\n",
       "Rape                4\n",
       "Robbery            11\n",
       "Agg_Assault        14\n",
       "Property_crime    194\n",
       "Burglary           19\n",
       "Larceny_theft     142\n",
       "Vehicle_theft      23\n",
       "Arson               4\n",
       "dtype: int64"
      ]
     },
     "execution_count": 13,
     "metadata": {},
     "output_type": "execute_result"
    }
   ],
   "source": [
    "# Identify null values\n",
    "ca.isnull().sum(axis=0)"
   ]
  },
  {
   "cell_type": "code",
   "execution_count": 14,
   "metadata": {},
   "outputs": [],
   "source": [
    "# Remove all null values\n",
    "ca = ca.dropna()"
   ]
  },
  {
   "cell_type": "code",
   "execution_count": 15,
   "metadata": {},
   "outputs": [
    {
     "data": {
      "text/plain": [
       "City              0\n",
       "Population        0\n",
       "V_Crime           0\n",
       "Murder            0\n",
       "Rape              0\n",
       "Robbery           0\n",
       "Agg_Assault       0\n",
       "Property_crime    0\n",
       "Burglary          0\n",
       "Larceny_theft     0\n",
       "Vehicle_theft     0\n",
       "Arson             0\n",
       "dtype: int64"
      ]
     },
     "execution_count": 15,
     "metadata": {},
     "output_type": "execute_result"
    }
   ],
   "source": [
    "# Verify null values\n",
    "ca.isnull().sum(axis=0)"
   ]
  },
  {
   "cell_type": "code",
   "execution_count": 16,
   "metadata": {},
   "outputs": [
    {
     "data": {
      "text/plain": [
       "(270, 12)"
      ]
     },
     "execution_count": 16,
     "metadata": {},
     "output_type": "execute_result"
    }
   ],
   "source": [
    "# Verify shape of data after removing null values\n",
    "ca.shape"
   ]
  },
  {
   "cell_type": "code",
   "execution_count": 17,
   "metadata": {},
   "outputs": [
    {
     "data": {
      "text/plain": [
       "0.0    183\n",
       "1.0     49\n",
       "2.0     28\n",
       "3.0      7\n",
       "5.0      1\n",
       "7.0      1\n",
       "6.0      1\n",
       "Name: Murder, dtype: int64"
      ]
     },
     "execution_count": 17,
     "metadata": {},
     "output_type": "execute_result"
    }
   ],
   "source": [
    "# Value counts for Murder (general exploration)\n",
    "ca['Murder'].value_counts()"
   ]
  },
  {
   "cell_type": "code",
   "execution_count": 18,
   "metadata": {},
   "outputs": [
    {
     "data": {
      "text/html": [
       "<div>\n",
       "<style scoped>\n",
       "    .dataframe tbody tr th:only-of-type {\n",
       "        vertical-align: middle;\n",
       "    }\n",
       "\n",
       "    .dataframe tbody tr th {\n",
       "        vertical-align: top;\n",
       "    }\n",
       "\n",
       "    .dataframe thead th {\n",
       "        text-align: right;\n",
       "    }\n",
       "</style>\n",
       "<table border=\"1\" class=\"dataframe\">\n",
       "  <thead>\n",
       "    <tr style=\"text-align: right;\">\n",
       "      <th></th>\n",
       "      <th>City</th>\n",
       "      <th>Population</th>\n",
       "      <th>V_Crime</th>\n",
       "      <th>Murder</th>\n",
       "      <th>Rape</th>\n",
       "      <th>Robbery</th>\n",
       "      <th>Agg_Assault</th>\n",
       "      <th>Property_crime</th>\n",
       "      <th>Burglary</th>\n",
       "      <th>Larceny_theft</th>\n",
       "      <th>Vehicle_theft</th>\n",
       "      <th>Arson</th>\n",
       "    </tr>\n",
       "  </thead>\n",
       "  <tbody>\n",
       "    <tr>\n",
       "      <th>28</th>\n",
       "      <td>Barstow</td>\n",
       "      <td>24028.0</td>\n",
       "      <td>302.0</td>\n",
       "      <td>2.0</td>\n",
       "      <td>17.0</td>\n",
       "      <td>97.0</td>\n",
       "      <td>186.0</td>\n",
       "      <td>988.0</td>\n",
       "      <td>318.0</td>\n",
       "      <td>484.0</td>\n",
       "      <td>186.0</td>\n",
       "      <td>13.0</td>\n",
       "    </tr>\n",
       "    <tr>\n",
       "      <th>387</th>\n",
       "      <td>Selma</td>\n",
       "      <td>24817.0</td>\n",
       "      <td>292.0</td>\n",
       "      <td>3.0</td>\n",
       "      <td>12.0</td>\n",
       "      <td>17.0</td>\n",
       "      <td>260.0</td>\n",
       "      <td>873.0</td>\n",
       "      <td>300.0</td>\n",
       "      <td>411.0</td>\n",
       "      <td>162.0</td>\n",
       "      <td>7.0</td>\n",
       "    </tr>\n",
       "    <tr>\n",
       "      <th>108</th>\n",
       "      <td>Desert Hot Springs</td>\n",
       "      <td>28717.0</td>\n",
       "      <td>292.0</td>\n",
       "      <td>7.0</td>\n",
       "      <td>18.0</td>\n",
       "      <td>56.0</td>\n",
       "      <td>211.0</td>\n",
       "      <td>784.0</td>\n",
       "      <td>341.0</td>\n",
       "      <td>189.0</td>\n",
       "      <td>254.0</td>\n",
       "      <td>3.0</td>\n",
       "    </tr>\n",
       "    <tr>\n",
       "      <th>229</th>\n",
       "      <td>Lompoc</td>\n",
       "      <td>43948.0</td>\n",
       "      <td>243.0</td>\n",
       "      <td>2.0</td>\n",
       "      <td>34.0</td>\n",
       "      <td>37.0</td>\n",
       "      <td>170.0</td>\n",
       "      <td>974.0</td>\n",
       "      <td>225.0</td>\n",
       "      <td>598.0</td>\n",
       "      <td>151.0</td>\n",
       "      <td>8.0</td>\n",
       "    </tr>\n",
       "    <tr>\n",
       "      <th>0</th>\n",
       "      <td>Adelanto</td>\n",
       "      <td>33693.0</td>\n",
       "      <td>238.0</td>\n",
       "      <td>2.0</td>\n",
       "      <td>28.0</td>\n",
       "      <td>48.0</td>\n",
       "      <td>160.0</td>\n",
       "      <td>578.0</td>\n",
       "      <td>190.0</td>\n",
       "      <td>290.0</td>\n",
       "      <td>98.0</td>\n",
       "      <td>13.0</td>\n",
       "    </tr>\n",
       "  </tbody>\n",
       "</table>\n",
       "</div>"
      ],
      "text/plain": [
       "                   City  Population  V_Crime  Murder  Rape  Robbery  \\\n",
       "28              Barstow     24028.0    302.0     2.0  17.0     97.0   \n",
       "387               Selma     24817.0    292.0     3.0  12.0     17.0   \n",
       "108  Desert Hot Springs     28717.0    292.0     7.0  18.0     56.0   \n",
       "229              Lompoc     43948.0    243.0     2.0  34.0     37.0   \n",
       "0              Adelanto     33693.0    238.0     2.0  28.0     48.0   \n",
       "\n",
       "     Agg_Assault  Property_crime  Burglary  Larceny_theft  Vehicle_theft  \\\n",
       "28         186.0           988.0     318.0          484.0          186.0   \n",
       "387        260.0           873.0     300.0          411.0          162.0   \n",
       "108        211.0           784.0     341.0          189.0          254.0   \n",
       "229        170.0           974.0     225.0          598.0          151.0   \n",
       "0          160.0           578.0     190.0          290.0           98.0   \n",
       "\n",
       "     Arson  \n",
       "28    13.0  \n",
       "387    7.0  \n",
       "108    3.0  \n",
       "229    8.0  \n",
       "0     13.0  "
      ]
     },
     "execution_count": 18,
     "metadata": {},
     "output_type": "execute_result"
    }
   ],
   "source": [
    "# Sorting column for Violent Crime (general exploration)\n",
    "ca.sort_values('V_Crime', ascending=False).head()"
   ]
  },
  {
   "cell_type": "code",
   "execution_count": 19,
   "metadata": {},
   "outputs": [
    {
     "data": {
      "text/html": [
       "<div>\n",
       "<style scoped>\n",
       "    .dataframe tbody tr th:only-of-type {\n",
       "        vertical-align: middle;\n",
       "    }\n",
       "\n",
       "    .dataframe tbody tr th {\n",
       "        vertical-align: top;\n",
       "    }\n",
       "\n",
       "    .dataframe thead th {\n",
       "        text-align: right;\n",
       "    }\n",
       "</style>\n",
       "<table border=\"1\" class=\"dataframe\">\n",
       "  <thead>\n",
       "    <tr style=\"text-align: right;\">\n",
       "      <th></th>\n",
       "      <th>City</th>\n",
       "      <th>Population</th>\n",
       "      <th>V_Crime</th>\n",
       "      <th>Murder</th>\n",
       "      <th>Rape</th>\n",
       "      <th>Robbery</th>\n",
       "      <th>Agg_Assault</th>\n",
       "      <th>Property_crime</th>\n",
       "      <th>Burglary</th>\n",
       "      <th>Larceny_theft</th>\n",
       "      <th>Vehicle_theft</th>\n",
       "      <th>Arson</th>\n",
       "    </tr>\n",
       "  </thead>\n",
       "  <tbody>\n",
       "    <tr>\n",
       "      <th>108</th>\n",
       "      <td>Desert Hot Springs</td>\n",
       "      <td>28717.0</td>\n",
       "      <td>292.0</td>\n",
       "      <td>7.0</td>\n",
       "      <td>18.0</td>\n",
       "      <td>56.0</td>\n",
       "      <td>211.0</td>\n",
       "      <td>784.0</td>\n",
       "      <td>341.0</td>\n",
       "      <td>189.0</td>\n",
       "      <td>254.0</td>\n",
       "      <td>3.0</td>\n",
       "    </tr>\n",
       "    <tr>\n",
       "      <th>17</th>\n",
       "      <td>Arvin</td>\n",
       "      <td>21390.0</td>\n",
       "      <td>229.0</td>\n",
       "      <td>6.0</td>\n",
       "      <td>8.0</td>\n",
       "      <td>23.0</td>\n",
       "      <td>192.0</td>\n",
       "      <td>453.0</td>\n",
       "      <td>72.0</td>\n",
       "      <td>242.0</td>\n",
       "      <td>139.0</td>\n",
       "      <td>5.0</td>\n",
       "    </tr>\n",
       "    <tr>\n",
       "      <th>288</th>\n",
       "      <td>Orange Cove</td>\n",
       "      <td>9674.0</td>\n",
       "      <td>58.0</td>\n",
       "      <td>5.0</td>\n",
       "      <td>0.0</td>\n",
       "      <td>6.0</td>\n",
       "      <td>47.0</td>\n",
       "      <td>95.0</td>\n",
       "      <td>20.0</td>\n",
       "      <td>52.0</td>\n",
       "      <td>23.0</td>\n",
       "      <td>0.0</td>\n",
       "    </tr>\n",
       "    <tr>\n",
       "      <th>182</th>\n",
       "      <td>Huron</td>\n",
       "      <td>6973.0</td>\n",
       "      <td>66.0</td>\n",
       "      <td>3.0</td>\n",
       "      <td>6.0</td>\n",
       "      <td>6.0</td>\n",
       "      <td>51.0</td>\n",
       "      <td>54.0</td>\n",
       "      <td>16.0</td>\n",
       "      <td>24.0</td>\n",
       "      <td>14.0</td>\n",
       "      <td>29.0</td>\n",
       "    </tr>\n",
       "    <tr>\n",
       "      <th>197</th>\n",
       "      <td>King City</td>\n",
       "      <td>14037.0</td>\n",
       "      <td>57.0</td>\n",
       "      <td>3.0</td>\n",
       "      <td>9.0</td>\n",
       "      <td>2.0</td>\n",
       "      <td>43.0</td>\n",
       "      <td>196.0</td>\n",
       "      <td>71.0</td>\n",
       "      <td>72.0</td>\n",
       "      <td>53.0</td>\n",
       "      <td>2.0</td>\n",
       "    </tr>\n",
       "  </tbody>\n",
       "</table>\n",
       "</div>"
      ],
      "text/plain": [
       "                   City  Population  V_Crime  Murder  Rape  Robbery  \\\n",
       "108  Desert Hot Springs     28717.0    292.0     7.0  18.0     56.0   \n",
       "17                Arvin     21390.0    229.0     6.0   8.0     23.0   \n",
       "288         Orange Cove      9674.0     58.0     5.0   0.0      6.0   \n",
       "182               Huron      6973.0     66.0     3.0   6.0      6.0   \n",
       "197           King City     14037.0     57.0     3.0   9.0      2.0   \n",
       "\n",
       "     Agg_Assault  Property_crime  Burglary  Larceny_theft  Vehicle_theft  \\\n",
       "108        211.0           784.0     341.0          189.0          254.0   \n",
       "17         192.0           453.0      72.0          242.0          139.0   \n",
       "288         47.0            95.0      20.0           52.0           23.0   \n",
       "182         51.0            54.0      16.0           24.0           14.0   \n",
       "197         43.0           196.0      71.0           72.0           53.0   \n",
       "\n",
       "     Arson  \n",
       "108    3.0  \n",
       "17     5.0  \n",
       "288    0.0  \n",
       "182   29.0  \n",
       "197    2.0  "
      ]
     },
     "execution_count": 19,
     "metadata": {},
     "output_type": "execute_result"
    }
   ],
   "source": [
    "# Sorting column for Murder (general exploration)\n",
    "ca.sort_values('Murder', ascending=False).head()"
   ]
  },
  {
   "cell_type": "code",
   "execution_count": 20,
   "metadata": {},
   "outputs": [],
   "source": [
    "# Add up values for all columns\n",
    "ca['Aggregate'] = (ca.V_Crime + ca.Murder + ca.Rape + ca.Robbery + ca.Agg_Assault +ca.Property_crime + ca.Burglary+\\\n",
    "ca.Larceny_theft + ca.Vehicle_theft + ca.Arson)"
   ]
  },
  {
   "cell_type": "code",
   "execution_count": 21,
   "metadata": {},
   "outputs": [
    {
     "data": {
      "text/plain": [
       "count     270.000000\n",
       "mean      840.600000\n",
       "std       634.964738\n",
       "min         6.000000\n",
       "25%       287.500000\n",
       "50%       721.500000\n",
       "75%      1235.500000\n",
       "max      2593.000000\n",
       "Name: Aggregate, dtype: float64"
      ]
     },
     "execution_count": 21,
     "metadata": {},
     "output_type": "execute_result"
    }
   ],
   "source": [
    "# Data exploration on the Aggregate column\n",
    "ca['Aggregate'].describe()"
   ]
  },
  {
   "cell_type": "code",
   "execution_count": 22,
   "metadata": {},
   "outputs": [],
   "source": [
    "# classifying Aggregate mean score 840 or less as safe \"1\" and above not safe \"0\"\n",
    "# 840 is the Aggregate mean\n",
    "ca['Status'] = ca.Aggregate.apply(lambda x: 0 if x >= 414 else 1)"
   ]
  },
  {
   "cell_type": "code",
   "execution_count": 23,
   "metadata": {},
   "outputs": [
    {
     "data": {
      "text/html": [
       "<div>\n",
       "<style scoped>\n",
       "    .dataframe tbody tr th:only-of-type {\n",
       "        vertical-align: middle;\n",
       "    }\n",
       "\n",
       "    .dataframe tbody tr th {\n",
       "        vertical-align: top;\n",
       "    }\n",
       "\n",
       "    .dataframe thead th {\n",
       "        text-align: right;\n",
       "    }\n",
       "</style>\n",
       "<table border=\"1\" class=\"dataframe\">\n",
       "  <thead>\n",
       "    <tr style=\"text-align: right;\">\n",
       "      <th></th>\n",
       "      <th>City</th>\n",
       "      <th>Population</th>\n",
       "      <th>V_Crime</th>\n",
       "      <th>Murder</th>\n",
       "      <th>Rape</th>\n",
       "      <th>Robbery</th>\n",
       "      <th>Agg_Assault</th>\n",
       "      <th>Property_crime</th>\n",
       "      <th>Burglary</th>\n",
       "      <th>Larceny_theft</th>\n",
       "      <th>Vehicle_theft</th>\n",
       "      <th>Arson</th>\n",
       "      <th>Aggregate</th>\n",
       "      <th>Status</th>\n",
       "    </tr>\n",
       "  </thead>\n",
       "  <tbody>\n",
       "    <tr>\n",
       "      <th>0</th>\n",
       "      <td>Adelanto</td>\n",
       "      <td>33693.0</td>\n",
       "      <td>238.0</td>\n",
       "      <td>2.0</td>\n",
       "      <td>28.0</td>\n",
       "      <td>48.0</td>\n",
       "      <td>160.0</td>\n",
       "      <td>578.0</td>\n",
       "      <td>190.0</td>\n",
       "      <td>290.0</td>\n",
       "      <td>98.0</td>\n",
       "      <td>13.0</td>\n",
       "      <td>1645.0</td>\n",
       "      <td>0</td>\n",
       "    </tr>\n",
       "    <tr>\n",
       "      <th>1</th>\n",
       "      <td>Agoura Hills</td>\n",
       "      <td>20814.0</td>\n",
       "      <td>16.0</td>\n",
       "      <td>0.0</td>\n",
       "      <td>2.0</td>\n",
       "      <td>4.0</td>\n",
       "      <td>10.0</td>\n",
       "      <td>278.0</td>\n",
       "      <td>71.0</td>\n",
       "      <td>187.0</td>\n",
       "      <td>20.0</td>\n",
       "      <td>4.0</td>\n",
       "      <td>592.0</td>\n",
       "      <td>0</td>\n",
       "    </tr>\n",
       "    <tr>\n",
       "      <th>3</th>\n",
       "      <td>Albany</td>\n",
       "      <td>19880.0</td>\n",
       "      <td>36.0</td>\n",
       "      <td>0.0</td>\n",
       "      <td>1.0</td>\n",
       "      <td>28.0</td>\n",
       "      <td>7.0</td>\n",
       "      <td>523.0</td>\n",
       "      <td>77.0</td>\n",
       "      <td>383.0</td>\n",
       "      <td>63.0</td>\n",
       "      <td>3.0</td>\n",
       "      <td>1121.0</td>\n",
       "      <td>0</td>\n",
       "    </tr>\n",
       "    <tr>\n",
       "      <th>5</th>\n",
       "      <td>Aliso Viejo</td>\n",
       "      <td>51984.0</td>\n",
       "      <td>44.0</td>\n",
       "      <td>0.0</td>\n",
       "      <td>4.0</td>\n",
       "      <td>8.0</td>\n",
       "      <td>32.0</td>\n",
       "      <td>394.0</td>\n",
       "      <td>62.0</td>\n",
       "      <td>299.0</td>\n",
       "      <td>33.0</td>\n",
       "      <td>3.0</td>\n",
       "      <td>879.0</td>\n",
       "      <td>0</td>\n",
       "    </tr>\n",
       "    <tr>\n",
       "      <th>6</th>\n",
       "      <td>Alturas</td>\n",
       "      <td>2491.0</td>\n",
       "      <td>39.0</td>\n",
       "      <td>2.0</td>\n",
       "      <td>2.0</td>\n",
       "      <td>3.0</td>\n",
       "      <td>32.0</td>\n",
       "      <td>129.0</td>\n",
       "      <td>31.0</td>\n",
       "      <td>88.0</td>\n",
       "      <td>10.0</td>\n",
       "      <td>2.0</td>\n",
       "      <td>338.0</td>\n",
       "      <td>1</td>\n",
       "    </tr>\n",
       "  </tbody>\n",
       "</table>\n",
       "</div>"
      ],
      "text/plain": [
       "           City  Population  V_Crime  Murder  Rape  Robbery  Agg_Assault  \\\n",
       "0      Adelanto     33693.0    238.0     2.0  28.0     48.0        160.0   \n",
       "1  Agoura Hills     20814.0     16.0     0.0   2.0      4.0         10.0   \n",
       "3        Albany     19880.0     36.0     0.0   1.0     28.0          7.0   \n",
       "5   Aliso Viejo     51984.0     44.0     0.0   4.0      8.0         32.0   \n",
       "6       Alturas      2491.0     39.0     2.0   2.0      3.0         32.0   \n",
       "\n",
       "   Property_crime  Burglary  Larceny_theft  Vehicle_theft  Arson  Aggregate  \\\n",
       "0           578.0     190.0          290.0           98.0   13.0     1645.0   \n",
       "1           278.0      71.0          187.0           20.0    4.0      592.0   \n",
       "3           523.0      77.0          383.0           63.0    3.0     1121.0   \n",
       "5           394.0      62.0          299.0           33.0    3.0      879.0   \n",
       "6           129.0      31.0           88.0           10.0    2.0      338.0   \n",
       "\n",
       "   Status  \n",
       "0       0  \n",
       "1       0  \n",
       "3       0  \n",
       "5       0  \n",
       "6       1  "
      ]
     },
     "execution_count": 23,
     "metadata": {},
     "output_type": "execute_result"
    }
   ],
   "source": [
    "# Examine data\n",
    "ca.head()"
   ]
  },
  {
   "cell_type": "code",
   "execution_count": 96,
   "metadata": {},
   "outputs": [
    {
     "data": {
      "text/plain": [
       "Text(0.5,1,'CALIFORNIA CRIME')"
      ]
     },
     "execution_count": 96,
     "metadata": {},
     "output_type": "execute_result"
    },
    {
     "data": {
      "image/png": "[encoded data removed]",
      "text/plain": [
       "<Figure size 432x360 with 2 Axes>"
      ]
     },
     "metadata": {
      "needs_background": "light"
     },
     "output_type": "display_data"
    }
   ],
   "source": [
    "# Examine correlation using heat map.\n",
    "plt.figure(figsize=(6,5))\n",
    "sns.heatmap(ca.corr())\n",
    "plt.title(\"CALIFORNIA CRIME\")"
   ]
  },
  {
   "cell_type": "code",
   "execution_count": 90,
   "metadata": {
    "scrolled": false
   },
   "outputs": [
    {
     "data": {
      "image/png": "[encoded data removed]",
      "text/plain": [
       "<Figure size 360x360 with 1 Axes>"
      ]
     },
     "metadata": {
      "needs_background": "light"
     },
     "output_type": "display_data"
    },
    {
     "name": "stdout",
     "output_type": "stream",
     "text": [
      "percentage of unsafe areas 67.78\n",
      "percentage of safe areas 32.22\n"
     ]
    },
    {
     "data": {
      "text/plain": [
       "<Figure size 432x288 with 0 Axes>"
      ]
     },
     "metadata": {},
     "output_type": "display_data"
    }
   ],
   "source": [
    "# Calculate percentage of safe vs. unsafe areas in CA\n",
    "ca['Status'].value_counts()\n",
    "\n",
    "plt.figure(figsize=(5,5))\n",
    "plt.title(\"Safe Vs. Unsafe - CALIFORNIA\")\n",
    "sns.countplot(x='Status', data=ca, palette = 'bright')\n",
    "plt.show()\n",
    "plt.savefig('count')\n",
    "\n",
    "count_unsafe = ca[ca['Status'] == 0].shape[0]\n",
    "count_safe = len(ca[ca['Status'] ==1 ])\n",
    "pct_unsafe = (count_unsafe/(count_unsafe + count_safe))*100\n",
    "pct_safe = (count_safe/(count_unsafe + count_safe))*100\n",
    "print(\"percentage of unsafe areas\", np.round(pct_unsafe,2))\n",
    "print(\"percentage of safe areas\", np.round(pct_safe,2))"
   ]
  },
  {
   "cell_type": "code",
   "execution_count": 26,
   "metadata": {},
   "outputs": [
    {
     "data": {
      "text/plain": [
       "87"
      ]
     },
     "execution_count": 26,
     "metadata": {},
     "output_type": "execute_result"
    }
   ],
   "source": [
    "count_safe"
   ]
  },
  {
   "cell_type": "code",
   "execution_count": 27,
   "metadata": {},
   "outputs": [],
   "source": [
    "# Creating Features and Target variable\n",
    "X = ca.loc[:, ~(ca.columns).isin(['City','Status','Aggregate'])]\n",
    "y = ca['Status']"
   ]
  },
  {
   "cell_type": "code",
   "execution_count": 28,
   "metadata": {},
   "outputs": [],
   "source": [
    "# running train, test split\n",
    "X_train, X_test, y_train, y_test = train_test_split(X, y, random_state=1)"
   ]
  },
  {
   "cell_type": "code",
   "execution_count": 29,
   "metadata": {},
   "outputs": [
    {
     "name": "stdout",
     "output_type": "stream",
     "text": [
      "(202, 11)\n",
      "(202,)\n",
      "(68, 11)\n",
      "(68,)\n"
     ]
    }
   ],
   "source": [
    "# default split is 75% for training and 25% for testing\n",
    "print(X_train.shape)\n",
    "print(y_train.shape)\n",
    "print(X_test.shape)\n",
    "print(y_test.shape)"
   ]
  },
  {
   "cell_type": "markdown",
   "metadata": {},
   "source": [
    "## Logistic Regression using \"StatsModels\""
   ]
  },
  {
   "cell_type": "code",
   "execution_count": 30,
   "metadata": {},
   "outputs": [
    {
     "name": "stderr",
     "output_type": "stream",
     "text": [
      "C:\\Users\\ushai\\Anaconda3\\lib\\site-packages\\ipykernel_launcher.py:7: SettingWithCopyWarning: \n",
      "A value is trying to be set on a copy of a slice from a DataFrame.\n",
      "Try using .loc[row_indexer,col_indexer] = value instead\n",
      "\n",
      "See the caveats in the documentation: http://pandas.pydata.org/pandas-docs/stable/indexing.html#indexing-view-versus-copy\n",
      "  import sys\n"
     ]
    }
   ],
   "source": [
    "# Declare predictors.\n",
    "X_statsmod = X_train\n",
    "y_statsmod = y_train\n",
    "\n",
    "# The Statsmodels formulation requires a column with constant value 1 that\n",
    "# will act as the intercept.\n",
    "X_train['intercept'] = 1 "
   ]
  },
  {
   "cell_type": "code",
   "execution_count": 31,
   "metadata": {},
   "outputs": [
    {
     "data": {
      "text/html": [
       "<div>\n",
       "<style scoped>\n",
       "    .dataframe tbody tr th:only-of-type {\n",
       "        vertical-align: middle;\n",
       "    }\n",
       "\n",
       "    .dataframe tbody tr th {\n",
       "        vertical-align: top;\n",
       "    }\n",
       "\n",
       "    .dataframe thead th {\n",
       "        text-align: right;\n",
       "    }\n",
       "</style>\n",
       "<table border=\"1\" class=\"dataframe\">\n",
       "  <thead>\n",
       "    <tr style=\"text-align: right;\">\n",
       "      <th></th>\n",
       "      <th>Population</th>\n",
       "      <th>V_Crime</th>\n",
       "      <th>Murder</th>\n",
       "      <th>Rape</th>\n",
       "      <th>Robbery</th>\n",
       "      <th>Agg_Assault</th>\n",
       "      <th>Property_crime</th>\n",
       "      <th>Burglary</th>\n",
       "      <th>Larceny_theft</th>\n",
       "      <th>Vehicle_theft</th>\n",
       "      <th>Arson</th>\n",
       "      <th>intercept</th>\n",
       "    </tr>\n",
       "  </thead>\n",
       "  <tbody>\n",
       "    <tr>\n",
       "      <th>49</th>\n",
       "      <td>5139.0</td>\n",
       "      <td>6.0</td>\n",
       "      <td>0.0</td>\n",
       "      <td>0.0</td>\n",
       "      <td>2.0</td>\n",
       "      <td>4.0</td>\n",
       "      <td>76.0</td>\n",
       "      <td>14.0</td>\n",
       "      <td>55.0</td>\n",
       "      <td>7.0</td>\n",
       "      <td>0.0</td>\n",
       "      <td>1</td>\n",
       "    </tr>\n",
       "    <tr>\n",
       "      <th>404</th>\n",
       "      <td>6210.0</td>\n",
       "      <td>11.0</td>\n",
       "      <td>0.0</td>\n",
       "      <td>5.0</td>\n",
       "      <td>1.0</td>\n",
       "      <td>5.0</td>\n",
       "      <td>93.0</td>\n",
       "      <td>33.0</td>\n",
       "      <td>52.0</td>\n",
       "      <td>8.0</td>\n",
       "      <td>2.0</td>\n",
       "      <td>1</td>\n",
       "    </tr>\n",
       "  </tbody>\n",
       "</table>\n",
       "</div>"
      ],
      "text/plain": [
       "     Population  V_Crime  Murder  Rape  Robbery  Agg_Assault  Property_crime  \\\n",
       "49       5139.0      6.0     0.0   0.0      2.0          4.0            76.0   \n",
       "404      6210.0     11.0     0.0   5.0      1.0          5.0            93.0   \n",
       "\n",
       "     Burglary  Larceny_theft  Vehicle_theft  Arson  intercept  \n",
       "49       14.0           55.0            7.0    0.0          1  \n",
       "404      33.0           52.0            8.0    2.0          1  "
      ]
     },
     "execution_count": 31,
     "metadata": {},
     "output_type": "execute_result"
    }
   ],
   "source": [
    "X_train.head(2)"
   ]
  },
  {
   "cell_type": "code",
   "execution_count": 32,
   "metadata": {},
   "outputs": [],
   "source": [
    "# Declare and fit the model.\n",
    "logit = sm.Logit(y_statsmod, X_statsmod)"
   ]
  },
  {
   "cell_type": "code",
   "execution_count": 33,
   "metadata": {},
   "outputs": [
    {
     "name": "stdout",
     "output_type": "stream",
     "text": [
      "Warning: Maximum number of iterations has been exceeded.\n",
      "         Current function value: 0.000001\n",
      "         Iterations: 35\n"
     ]
    },
    {
     "name": "stderr",
     "output_type": "stream",
     "text": [
      "C:\\Users\\ushai\\Anaconda3\\lib\\site-packages\\statsmodels\\base\\model.py:508: ConvergenceWarning: Maximum Likelihood optimization failed to converge. Check mle_retvals\n",
      "  \"Check mle_retvals\", ConvergenceWarning)\n"
     ]
    }
   ],
   "source": [
    "result = logit.fit()"
   ]
  },
  {
   "cell_type": "code",
   "execution_count": 34,
   "metadata": {},
   "outputs": [
    {
     "name": "stdout",
     "output_type": "stream",
     "text": [
      "                                       Results: Logit\n",
      "============================================================================================\n",
      "Model:                        Logit                    Pseudo R-squared:         1.000      \n",
      "Dependent Variable:           Status                   AIC:                      20.0006    \n",
      "Date:                         2018-12-22 13:38         BIC:                      53.0832    \n",
      "No. Observations:             202                      Log-Likelihood:           -0.00027663\n",
      "Df Model:                     9                        LL-Null:                  -126.14    \n",
      "Df Residuals:                 192                      LLR p-value:              3.2919e-49 \n",
      "Converged:                    0.0000                   Scale:                    1.0000     \n",
      "No. Iterations:               35.0000                                                       \n",
      "--------------------------------------------------------------------------------------------\n",
      "                    Coef.         Std.Err.       z    P>|z|       [0.025          0.975]    \n",
      "--------------------------------------------------------------------------------------------\n",
      "Population             -0.0043     17831.3010 -0.0000 1.0000      -34948.7121     34948.7034\n",
      "V_Crime         453318101.5604            nan     nan    nan              nan            nan\n",
      "Murder         -453318121.4267 295366582.0472 -1.5348 0.1248 -1032225984.4759 125589741.6225\n",
      "Rape           -453318088.0727            nan     nan    nan              nan            nan\n",
      "Robbery        -453318107.6101            nan     nan    nan              nan            nan\n",
      "Agg_Assault    -453318103.2241            nan     nan    nan              nan            nan\n",
      "Property_crime         -1.5566            nan     nan    nan              nan            nan\n",
      "Burglary               -1.8420            nan     nan    nan              nan            nan\n",
      "Larceny_theft          -0.1000            nan     nan    nan              nan            nan\n",
      "Vehicle_theft           0.3855            nan     nan    nan              nan            nan\n",
      "Arson                  -5.1816  42599275.0314 -0.0000 1.0000   -83493050.0107  83493039.6474\n",
      "intercept             410.9872 354847100.4921  0.0000 1.0000  -695487125.9958 695487947.9702\n",
      "============================================================================================\n",
      "\n"
     ]
    },
    {
     "name": "stderr",
     "output_type": "stream",
     "text": [
      "C:\\Users\\ushai\\Anaconda3\\lib\\site-packages\\statsmodels\\base\\model.py:1092: RuntimeWarning: invalid value encountered in sqrt\n",
      "  bse_ = np.sqrt(np.diag(self.cov_params()))\n",
      "C:\\Users\\ushai\\Anaconda3\\lib\\site-packages\\scipy\\stats\\_distn_infrastructure.py:879: RuntimeWarning: invalid value encountered in greater\n",
      "  return (self.a < x) & (x < self.b)\n",
      "C:\\Users\\ushai\\Anaconda3\\lib\\site-packages\\scipy\\stats\\_distn_infrastructure.py:879: RuntimeWarning: invalid value encountered in less\n",
      "  return (self.a < x) & (x < self.b)\n",
      "C:\\Users\\ushai\\Anaconda3\\lib\\site-packages\\scipy\\stats\\_distn_infrastructure.py:1821: RuntimeWarning: invalid value encountered in less_equal\n",
      "  cond2 = cond0 & (x <= self.a)\n"
     ]
    }
   ],
   "source": [
    "# Lots of information about the model and its coefficients, but the\n",
    "# accuracy rate for predictions is missing.\n",
    "print(result.summary2())"
   ]
  },
  {
   "cell_type": "code",
   "execution_count": 35,
   "metadata": {},
   "outputs": [],
   "source": [
    "# Calculate accuracy. First, get probability that each row will be admitted.\n",
    "pred_y_statsmod = result.predict(X_statsmod)"
   ]
  },
  {
   "cell_type": "code",
   "execution_count": 36,
   "metadata": {},
   "outputs": [],
   "source": [
    "# Code admission as 1 if probability is greater than .5.\n",
    "pred_y_statsmod = np.where(pred_y_statsmod < .5, 0, 1)"
   ]
  },
  {
   "cell_type": "code",
   "execution_count": 37,
   "metadata": {},
   "outputs": [],
   "source": [
    "# Accuracy table.\n",
    "table = pd.crosstab(y_statsmod, pred_y_statsmod)"
   ]
  },
  {
   "cell_type": "code",
   "execution_count": 38,
   "metadata": {},
   "outputs": [
    {
     "name": "stdout",
     "output_type": "stream",
     "text": [
      "\n",
      " Accuracy by status\n",
      "col_0     0   1\n",
      "Status         \n",
      "0       138   0\n",
      "1         0  64\n"
     ]
    }
   ],
   "source": [
    "print('\\n Accuracy by status')\n",
    "print(table)"
   ]
  },
  {
   "cell_type": "code",
   "execution_count": 39,
   "metadata": {},
   "outputs": [
    {
     "name": "stdout",
     "output_type": "stream",
     "text": [
      "\n",
      " Percentage accuracy\n",
      "1.0\n"
     ]
    }
   ],
   "source": [
    "print('\\n Percentage accuracy')\n",
    "print((table.iloc[0,0] + table.iloc[1,1]) / (table.sum().sum()))"
   ]
  },
  {
   "cell_type": "markdown",
   "metadata": {},
   "source": [
    "## Logistic Regression using SK Learn"
   ]
  },
  {
   "cell_type": "code",
   "execution_count": 40,
   "metadata": {},
   "outputs": [],
   "source": [
    "# Creating Features and Target variable\n",
    "X = ca.loc[:, ~(ca.columns).isin(['City','Status','Aggregate'])]\n",
    "y = ca['Status']"
   ]
  },
  {
   "cell_type": "code",
   "execution_count": 41,
   "metadata": {},
   "outputs": [],
   "source": [
    "# running train, test split\n",
    "X_train, X_test, y_train, y_test = train_test_split(X, y, random_state=1)"
   ]
  },
  {
   "cell_type": "code",
   "execution_count": 42,
   "metadata": {},
   "outputs": [],
   "source": [
    "# Choosing a model\n",
    "# Parameter regularization coefficient\"C\" has been set to a very large number, which decreases the effectiveness \n",
    "# of the regularization so that parameter estimates will be similar to the ones from 'statsmodels' above.\n",
    "logistic = LogisticRegression(C=1e9)"
   ]
  },
  {
   "cell_type": "code",
   "execution_count": 43,
   "metadata": {
    "scrolled": true
   },
   "outputs": [
    {
     "name": "stderr",
     "output_type": "stream",
     "text": [
      "C:\\Users\\ushai\\Anaconda3\\lib\\site-packages\\sklearn\\linear_model\\logistic.py:433: FutureWarning: Default solver will be changed to 'lbfgs' in 0.22. Specify a solver to silence this warning.\n",
      "  FutureWarning)\n"
     ]
    },
    {
     "data": {
      "text/plain": [
       "LogisticRegression(C=1000000000.0, class_weight=None, dual=False,\n",
       "          fit_intercept=True, intercept_scaling=1, max_iter=100,\n",
       "          multi_class='warn', n_jobs=None, penalty='l2', random_state=None,\n",
       "          solver='warn', tol=0.0001, verbose=0, warm_start=False)"
      ]
     },
     "execution_count": 43,
     "metadata": {},
     "output_type": "execute_result"
    }
   ],
   "source": [
    "# Fitting the model\n",
    "logistic.fit(X_train, y_train)"
   ]
  },
  {
   "cell_type": "code",
   "execution_count": 44,
   "metadata": {},
   "outputs": [
    {
     "name": "stdout",
     "output_type": "stream",
     "text": [
      "R Square:0.9900990099009901\n"
     ]
    }
   ],
   "source": [
    "# R Square\n",
    "R_Square = (logistic.score(X_train, y_train))\n",
    "print (\"R Square:{}\".format(R_Square))"
   ]
  },
  {
   "cell_type": "code",
   "execution_count": 45,
   "metadata": {},
   "outputs": [
    {
     "name": "stdout",
     "output_type": "stream",
     "text": [
      "[[ 5.04830311e-05 -1.83980645e-01 -5.09710159e-01  1.76629924e-01\n",
      "  -2.39748141e-02  1.73074404e-01 -1.50365127e-02 -7.40840332e-03\n",
      "  -7.98121466e-03  3.53105297e-04  5.75806366e-02]] [4.13185721]\n"
     ]
    }
   ],
   "source": [
    "# Regression Coefficents\n",
    "print(logistic.coef_, logistic.intercept_)"
   ]
  },
  {
   "cell_type": "code",
   "execution_count": 46,
   "metadata": {},
   "outputs": [],
   "source": [
    "# Make predictions on the testing set\n",
    "y_pred = logistic.predict(X_test)"
   ]
  },
  {
   "cell_type": "code",
   "execution_count": 47,
   "metadata": {},
   "outputs": [
    {
     "name": "stdout",
     "output_type": "stream",
     "text": [
      "Mean Absolute Error: 0.029411764705882353\n"
     ]
    }
   ],
   "source": [
    "# Print Error's\n",
    "print (\"Mean Absolute Error: {}\".format(metrics.mean_absolute_error(y_test, y_pred)))"
   ]
  },
  {
   "cell_type": "code",
   "execution_count": 48,
   "metadata": {},
   "outputs": [],
   "source": [
    "coeff_logistic = pd.DataFrame(X_train.columns)\n",
    "coeff_logistic['Coefficient Estimate'] = pd.Series(logistic.coef_[0])"
   ]
  },
  {
   "cell_type": "code",
   "execution_count": 49,
   "metadata": {},
   "outputs": [
    {
     "data": {
      "text/html": [
       "<div>\n",
       "<style scoped>\n",
       "    .dataframe tbody tr th:only-of-type {\n",
       "        vertical-align: middle;\n",
       "    }\n",
       "\n",
       "    .dataframe tbody tr th {\n",
       "        vertical-align: top;\n",
       "    }\n",
       "\n",
       "    .dataframe thead th {\n",
       "        text-align: right;\n",
       "    }\n",
       "</style>\n",
       "<table border=\"1\" class=\"dataframe\">\n",
       "  <thead>\n",
       "    <tr style=\"text-align: right;\">\n",
       "      <th></th>\n",
       "      <th>0</th>\n",
       "      <th>Coefficient Estimate</th>\n",
       "    </tr>\n",
       "  </thead>\n",
       "  <tbody>\n",
       "    <tr>\n",
       "      <th>0</th>\n",
       "      <td>Population</td>\n",
       "      <td>0.000050</td>\n",
       "    </tr>\n",
       "    <tr>\n",
       "      <th>1</th>\n",
       "      <td>V_Crime</td>\n",
       "      <td>-0.183981</td>\n",
       "    </tr>\n",
       "    <tr>\n",
       "      <th>2</th>\n",
       "      <td>Murder</td>\n",
       "      <td>-0.509710</td>\n",
       "    </tr>\n",
       "    <tr>\n",
       "      <th>3</th>\n",
       "      <td>Rape</td>\n",
       "      <td>0.176630</td>\n",
       "    </tr>\n",
       "    <tr>\n",
       "      <th>4</th>\n",
       "      <td>Robbery</td>\n",
       "      <td>-0.023975</td>\n",
       "    </tr>\n",
       "    <tr>\n",
       "      <th>5</th>\n",
       "      <td>Agg_Assault</td>\n",
       "      <td>0.173074</td>\n",
       "    </tr>\n",
       "    <tr>\n",
       "      <th>6</th>\n",
       "      <td>Property_crime</td>\n",
       "      <td>-0.015037</td>\n",
       "    </tr>\n",
       "    <tr>\n",
       "      <th>7</th>\n",
       "      <td>Burglary</td>\n",
       "      <td>-0.007408</td>\n",
       "    </tr>\n",
       "    <tr>\n",
       "      <th>8</th>\n",
       "      <td>Larceny_theft</td>\n",
       "      <td>-0.007981</td>\n",
       "    </tr>\n",
       "    <tr>\n",
       "      <th>9</th>\n",
       "      <td>Vehicle_theft</td>\n",
       "      <td>0.000353</td>\n",
       "    </tr>\n",
       "    <tr>\n",
       "      <th>10</th>\n",
       "      <td>Arson</td>\n",
       "      <td>0.057581</td>\n",
       "    </tr>\n",
       "  </tbody>\n",
       "</table>\n",
       "</div>"
      ],
      "text/plain": [
       "                 0  Coefficient Estimate\n",
       "0       Population              0.000050\n",
       "1          V_Crime             -0.183981\n",
       "2           Murder             -0.509710\n",
       "3             Rape              0.176630\n",
       "4          Robbery             -0.023975\n",
       "5      Agg_Assault              0.173074\n",
       "6   Property_crime             -0.015037\n",
       "7         Burglary             -0.007408\n",
       "8    Larceny_theft             -0.007981\n",
       "9    Vehicle_theft              0.000353\n",
       "10           Arson              0.057581"
      ]
     },
     "execution_count": 49,
     "metadata": {},
     "output_type": "execute_result"
    }
   ],
   "source": [
    "coeff_logistic"
   ]
  },
  {
   "cell_type": "code",
   "execution_count": 87,
   "metadata": {},
   "outputs": [
    {
     "data": {
      "text/plain": [
       "<matplotlib.axes._subplots.AxesSubplot at 0x18feb9e8d30>"
      ]
     },
     "execution_count": 87,
     "metadata": {},
     "output_type": "execute_result"
    },
    {
     "data": {
      "image/png": "[encoded data removed]",
      "text/plain": [
       "<Figure size 360x360 with 1 Axes>"
      ]
     },
     "metadata": {
      "needs_background": "light"
     },
     "output_type": "display_data"
    }
   ],
   "source": [
    "# checking the magnitude of coefficients\n",
    "predictors = X_train.columns\n",
    "coef = Series(logistic.coef_[0],predictors).sort_values()\n",
    "plt.figure(figsize=(5,5))\n",
    "coef.plot(kind='bar', title='Modal Coefficients')"
   ]
  },
  {
   "cell_type": "markdown",
   "metadata": {},
   "source": [
    "## Ridge Regression"
   ]
  },
  {
   "cell_type": "code",
   "execution_count": 50,
   "metadata": {},
   "outputs": [],
   "source": [
    "# Creating Features and Target variable\n",
    "X = ca.loc[:, ~(ca.columns).isin(['City','Status','Aggregate'])]\n",
    "y = ca['Status']"
   ]
  },
  {
   "cell_type": "code",
   "execution_count": 51,
   "metadata": {},
   "outputs": [],
   "source": [
    "# running train, test split\n",
    "X_train, X_test, y_train, y_test = train_test_split(X, y, random_state=1)"
   ]
  },
  {
   "cell_type": "code",
   "execution_count": 52,
   "metadata": {},
   "outputs": [],
   "source": [
    "# Choosing a model\n",
    "# As λ gets larger, the penalty for coefficient size also gets larger (Higher λ = lowered coefficent)\n",
    "# and the solution that minimizes the cost function will by necessity have smaller coefficient estimates. \n",
    "# Regularization based on the sum of the squared weights is also called \"L2 regularization\".\n",
    "\n",
    "ridge = linear_model.Ridge(alpha=1, fit_intercept=False) "
   ]
  },
  {
   "cell_type": "code",
   "execution_count": 53,
   "metadata": {
    "scrolled": true
   },
   "outputs": [
    {
     "data": {
      "text/plain": [
       "Ridge(alpha=1, copy_X=True, fit_intercept=False, max_iter=None,\n",
       "   normalize=False, random_state=None, solver='auto', tol=0.001)"
      ]
     },
     "execution_count": 53,
     "metadata": {},
     "output_type": "execute_result"
    }
   ],
   "source": [
    "# Fitting the model\n",
    "ridge.fit(X_train, y_train)"
   ]
  },
  {
   "cell_type": "code",
   "execution_count": 54,
   "metadata": {},
   "outputs": [
    {
     "name": "stdout",
     "output_type": "stream",
     "text": [
      "R Square:-0.39993813307985016\n"
     ]
    }
   ],
   "source": [
    "# R Square\n",
    "R_Square = (ridge.score(X_train, y_train))\n",
    "print (\"R Square:{}\".format(R_Square))"
   ]
  },
  {
   "cell_type": "code",
   "execution_count": 55,
   "metadata": {},
   "outputs": [
    {
     "name": "stdout",
     "output_type": "stream",
     "text": [
      "[ 5.67195770e-06  8.95423253e-04  8.49315544e-03  8.15603379e-04\n",
      " -8.16806932e-03 -2.45266251e-04  6.33901201e-05  2.68818271e-04\n",
      " -2.88756928e-04  8.33287774e-05  8.81828267e-03] 0.0\n"
     ]
    }
   ],
   "source": [
    "# Regression Coefficents\n",
    "print(ridge.coef_, ridge.intercept_)"
   ]
  },
  {
   "cell_type": "code",
   "execution_count": 56,
   "metadata": {},
   "outputs": [],
   "source": [
    "# Make predictions on the testing set\n",
    "y_pred = ridge.predict(X_test)"
   ]
  },
  {
   "cell_type": "code",
   "execution_count": 57,
   "metadata": {},
   "outputs": [
    {
     "name": "stdout",
     "output_type": "stream",
     "text": [
      "Mean Absolute Error: 0.4009127623405019\n"
     ]
    }
   ],
   "source": [
    "# Print Error's\n",
    "print (\"Mean Absolute Error: {}\".format(metrics.mean_absolute_error(y_test, y_pred)))"
   ]
  },
  {
   "cell_type": "code",
   "execution_count": 58,
   "metadata": {},
   "outputs": [],
   "source": [
    "coeff_ridge = pd.DataFrame(X_train.columns)\n",
    "coeff_ridge['Coefficient Estimate'] = pd.Series(ridge.coef_)"
   ]
  },
  {
   "cell_type": "code",
   "execution_count": 59,
   "metadata": {},
   "outputs": [
    {
     "data": {
      "text/html": [
       "<div>\n",
       "<style scoped>\n",
       "    .dataframe tbody tr th:only-of-type {\n",
       "        vertical-align: middle;\n",
       "    }\n",
       "\n",
       "    .dataframe tbody tr th {\n",
       "        vertical-align: top;\n",
       "    }\n",
       "\n",
       "    .dataframe thead th {\n",
       "        text-align: right;\n",
       "    }\n",
       "</style>\n",
       "<table border=\"1\" class=\"dataframe\">\n",
       "  <thead>\n",
       "    <tr style=\"text-align: right;\">\n",
       "      <th></th>\n",
       "      <th>0</th>\n",
       "      <th>Coefficient Estimate</th>\n",
       "    </tr>\n",
       "  </thead>\n",
       "  <tbody>\n",
       "    <tr>\n",
       "      <th>0</th>\n",
       "      <td>Population</td>\n",
       "      <td>0.000006</td>\n",
       "    </tr>\n",
       "    <tr>\n",
       "      <th>1</th>\n",
       "      <td>V_Crime</td>\n",
       "      <td>0.000895</td>\n",
       "    </tr>\n",
       "    <tr>\n",
       "      <th>2</th>\n",
       "      <td>Murder</td>\n",
       "      <td>0.008493</td>\n",
       "    </tr>\n",
       "    <tr>\n",
       "      <th>3</th>\n",
       "      <td>Rape</td>\n",
       "      <td>0.000816</td>\n",
       "    </tr>\n",
       "    <tr>\n",
       "      <th>4</th>\n",
       "      <td>Robbery</td>\n",
       "      <td>-0.008168</td>\n",
       "    </tr>\n",
       "    <tr>\n",
       "      <th>5</th>\n",
       "      <td>Agg_Assault</td>\n",
       "      <td>-0.000245</td>\n",
       "    </tr>\n",
       "    <tr>\n",
       "      <th>6</th>\n",
       "      <td>Property_crime</td>\n",
       "      <td>0.000063</td>\n",
       "    </tr>\n",
       "    <tr>\n",
       "      <th>7</th>\n",
       "      <td>Burglary</td>\n",
       "      <td>0.000269</td>\n",
       "    </tr>\n",
       "    <tr>\n",
       "      <th>8</th>\n",
       "      <td>Larceny_theft</td>\n",
       "      <td>-0.000289</td>\n",
       "    </tr>\n",
       "    <tr>\n",
       "      <th>9</th>\n",
       "      <td>Vehicle_theft</td>\n",
       "      <td>0.000083</td>\n",
       "    </tr>\n",
       "    <tr>\n",
       "      <th>10</th>\n",
       "      <td>Arson</td>\n",
       "      <td>0.008818</td>\n",
       "    </tr>\n",
       "  </tbody>\n",
       "</table>\n",
       "</div>"
      ],
      "text/plain": [
       "                 0  Coefficient Estimate\n",
       "0       Population              0.000006\n",
       "1          V_Crime              0.000895\n",
       "2           Murder              0.008493\n",
       "3             Rape              0.000816\n",
       "4          Robbery             -0.008168\n",
       "5      Agg_Assault             -0.000245\n",
       "6   Property_crime              0.000063\n",
       "7         Burglary              0.000269\n",
       "8    Larceny_theft             -0.000289\n",
       "9    Vehicle_theft              0.000083\n",
       "10           Arson              0.008818"
      ]
     },
     "execution_count": 59,
     "metadata": {},
     "output_type": "execute_result"
    }
   ],
   "source": [
    "coeff_ridge"
   ]
  },
  {
   "cell_type": "code",
   "execution_count": 88,
   "metadata": {},
   "outputs": [
    {
     "data": {
      "text/plain": [
       "<matplotlib.axes._subplots.AxesSubplot at 0x18feb9e8f98>"
      ]
     },
     "execution_count": 88,
     "metadata": {},
     "output_type": "execute_result"
    },
    {
     "data": {
      "image/png": "[encoded data removed]",
      "text/plain": [
       "<Figure size 360x360 with 1 Axes>"
      ]
     },
     "metadata": {
      "needs_background": "light"
     },
     "output_type": "display_data"
    }
   ],
   "source": [
    "# checking the magnitude of coefficients\n",
    "predictors = X_train.columns\n",
    "coef = Series(ridge.coef_,predictors).sort_values()\n",
    "plt.figure(figsize=(5,5))\n",
    "coef.plot(kind='bar', title='Modal Coefficients')"
   ]
  },
  {
   "cell_type": "markdown",
   "metadata": {},
   "source": [
    "## Lasso Regression"
   ]
  },
  {
   "cell_type": "code",
   "execution_count": 70,
   "metadata": {},
   "outputs": [],
   "source": [
    "# Choosing a model\n",
    "lassoreg = linear_model.Lasso(alpha=1, normalize=False)"
   ]
  },
  {
   "cell_type": "code",
   "execution_count": 71,
   "metadata": {
    "scrolled": true
   },
   "outputs": [
    {
     "data": {
      "text/plain": [
       "Lasso(alpha=1, copy_X=True, fit_intercept=True, max_iter=1000,\n",
       "   normalize=False, positive=False, precompute=False, random_state=None,\n",
       "   selection='cyclic', tol=0.0001, warm_start=False)"
      ]
     },
     "execution_count": 71,
     "metadata": {},
     "output_type": "execute_result"
    }
   ],
   "source": [
    "# Fitting the model\n",
    "lassoreg.fit(X_train, y_train)"
   ]
  },
  {
   "cell_type": "code",
   "execution_count": 72,
   "metadata": {},
   "outputs": [
    {
     "name": "stdout",
     "output_type": "stream",
     "text": [
      "R Square:0.5156475905674898\n"
     ]
    }
   ],
   "source": [
    "# Logistic Regression R Square\n",
    "R_Square = (lassoreg.score(X_train, y_train))\n",
    "print (\"R Square:{}\".format(R_Square))"
   ]
  },
  {
   "cell_type": "code",
   "execution_count": 73,
   "metadata": {},
   "outputs": [
    {
     "name": "stdout",
     "output_type": "stream",
     "text": [
      "[-2.72527790e-06 -6.01975388e-04 -0.00000000e+00  0.00000000e+00\n",
      " -0.00000000e+00 -0.00000000e+00 -9.17325116e-04 -3.80580287e-04\n",
      "  0.00000000e+00 -0.00000000e+00 -0.00000000e+00] 0.7725302765445055\n"
     ]
    }
   ],
   "source": [
    "# Regression Coefficents\n",
    "print(lassoreg.coef_, lassoreg.intercept_)"
   ]
  },
  {
   "cell_type": "code",
   "execution_count": 74,
   "metadata": {},
   "outputs": [],
   "source": [
    "# Make predictions on the testing set\n",
    "y_pred = lassoreg.predict(X_test)"
   ]
  },
  {
   "cell_type": "code",
   "execution_count": 75,
   "metadata": {},
   "outputs": [
    {
     "name": "stdout",
     "output_type": "stream",
     "text": [
      "Mean Absolute Error: 0.316716400206976\n"
     ]
    }
   ],
   "source": [
    "# Print Error's\n",
    "print (\"Mean Absolute Error: {}\".format(metrics.mean_absolute_error(y_test, y_pred)))"
   ]
  },
  {
   "cell_type": "code",
   "execution_count": 76,
   "metadata": {},
   "outputs": [],
   "source": [
    "coeff_lasso = pd.DataFrame(X_train.columns)\n",
    "coeff_lasso['Coefficient Estimate'] = pd.Series(lassoreg.coef_)"
   ]
  },
  {
   "cell_type": "code",
   "execution_count": 77,
   "metadata": {},
   "outputs": [
    {
     "data": {
      "text/html": [
       "<div>\n",
       "<style scoped>\n",
       "    .dataframe tbody tr th:only-of-type {\n",
       "        vertical-align: middle;\n",
       "    }\n",
       "\n",
       "    .dataframe tbody tr th {\n",
       "        vertical-align: top;\n",
       "    }\n",
       "\n",
       "    .dataframe thead th {\n",
       "        text-align: right;\n",
       "    }\n",
       "</style>\n",
       "<table border=\"1\" class=\"dataframe\">\n",
       "  <thead>\n",
       "    <tr style=\"text-align: right;\">\n",
       "      <th></th>\n",
       "      <th>0</th>\n",
       "      <th>Coefficient Estimate</th>\n",
       "    </tr>\n",
       "  </thead>\n",
       "  <tbody>\n",
       "    <tr>\n",
       "      <th>0</th>\n",
       "      <td>Population</td>\n",
       "      <td>-0.000003</td>\n",
       "    </tr>\n",
       "    <tr>\n",
       "      <th>1</th>\n",
       "      <td>V_Crime</td>\n",
       "      <td>-0.000602</td>\n",
       "    </tr>\n",
       "    <tr>\n",
       "      <th>2</th>\n",
       "      <td>Murder</td>\n",
       "      <td>-0.000000</td>\n",
       "    </tr>\n",
       "    <tr>\n",
       "      <th>3</th>\n",
       "      <td>Rape</td>\n",
       "      <td>0.000000</td>\n",
       "    </tr>\n",
       "    <tr>\n",
       "      <th>4</th>\n",
       "      <td>Robbery</td>\n",
       "      <td>-0.000000</td>\n",
       "    </tr>\n",
       "    <tr>\n",
       "      <th>5</th>\n",
       "      <td>Agg_Assault</td>\n",
       "      <td>-0.000000</td>\n",
       "    </tr>\n",
       "    <tr>\n",
       "      <th>6</th>\n",
       "      <td>Property_crime</td>\n",
       "      <td>-0.000917</td>\n",
       "    </tr>\n",
       "    <tr>\n",
       "      <th>7</th>\n",
       "      <td>Burglary</td>\n",
       "      <td>-0.000381</td>\n",
       "    </tr>\n",
       "    <tr>\n",
       "      <th>8</th>\n",
       "      <td>Larceny_theft</td>\n",
       "      <td>0.000000</td>\n",
       "    </tr>\n",
       "    <tr>\n",
       "      <th>9</th>\n",
       "      <td>Vehicle_theft</td>\n",
       "      <td>-0.000000</td>\n",
       "    </tr>\n",
       "    <tr>\n",
       "      <th>10</th>\n",
       "      <td>Arson</td>\n",
       "      <td>-0.000000</td>\n",
       "    </tr>\n",
       "  </tbody>\n",
       "</table>\n",
       "</div>"
      ],
      "text/plain": [
       "                 0  Coefficient Estimate\n",
       "0       Population             -0.000003\n",
       "1          V_Crime             -0.000602\n",
       "2           Murder             -0.000000\n",
       "3             Rape              0.000000\n",
       "4          Robbery             -0.000000\n",
       "5      Agg_Assault             -0.000000\n",
       "6   Property_crime             -0.000917\n",
       "7         Burglary             -0.000381\n",
       "8    Larceny_theft              0.000000\n",
       "9    Vehicle_theft             -0.000000\n",
       "10           Arson             -0.000000"
      ]
     },
     "execution_count": 77,
     "metadata": {},
     "output_type": "execute_result"
    }
   ],
   "source": [
    "coeff_lasso"
   ]
  },
  {
   "cell_type": "code",
   "execution_count": 89,
   "metadata": {},
   "outputs": [
    {
     "data": {
      "text/plain": [
       "<matplotlib.axes._subplots.AxesSubplot at 0x18febad9a90>"
      ]
     },
     "execution_count": 89,
     "metadata": {},
     "output_type": "execute_result"
    },
    {
     "data": {
      "image/png": "[encoded data removed]",
      "text/plain": [
       "<Figure size 360x360 with 1 Axes>"
      ]
     },
     "metadata": {
      "needs_background": "light"
     },
     "output_type": "display_data"
    }
   ],
   "source": [
    "# checking the magnitude of coefficients\n",
    "predictors = X_train.columns\n",
    "coef = Series(lassoreg.coef_,predictors).sort_values()\n",
    "plt.figure(figsize=(5,5))\n",
    "coef.plot(kind='bar', title='Modal Coefficients')"
   ]
  },
  {
   "cell_type": "code",
   "execution_count": null,
   "metadata": {},
   "outputs": [],
   "source": []
  },
  {
   "cell_type": "code",
   "execution_count": null,
   "metadata": {},
   "outputs": [],
   "source": []
  },
  {
   "cell_type": "code",
   "execution_count": null,
   "metadata": {},
   "outputs": [],
   "source": []
  }
 ],
 "metadata": {
  "kernelspec": {
   "display_name": "Python 3",
   "language": "python",
   "name": "python3"
  },
  "language_info": {
   "codemirror_mode": {
    "name": "ipython",
    "version": 3
   },
   "file_extension": ".py",
   "mimetype": "text/x-python",
   "name": "python",
   "nbconvert_exporter": "python",
   "pygments_lexer": "ipython3",
   "version": "3.7.0"
  }
 },
 "nbformat": 4,
 "nbformat_minor": 2
}
