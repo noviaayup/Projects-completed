{
 "cells": [
  {
   "cell_type": "markdown",
   "metadata": {},
   "source": [
    "## SUPPORT VECTOR MACHINES CHALLENGE"
   ]
  },
  {
   "cell_type": "code",
   "execution_count": 124,
   "metadata": {},
   "outputs": [],
   "source": [
    "import numpy as np\n",
    "import matplotlib.pyplot as plt\n",
    "%matplotlib inline\n",
    "import pandas as pd\n",
    "import seaborn as sns\n",
    "from sklearn import metrics\n",
    "from sklearn.model_selection import train_test_split\n",
    "from sklearn.model_selection import cross_val_score\n",
    "from sklearn.linear_model import LogisticRegression\n",
    "from sklearn.svm import SVR"
   ]
  },
  {
   "cell_type": "markdown",
   "metadata": {},
   "source": [
    "Now it's time for another guided example. This time we're going to look at recipes. Specifically we'll use the epicurious dataset, which has a collection of recipes, key terms and ingredients, and their ratings.\n",
    "\n",
    "What we want to see is if we can use the ingredient and keyword list to predict the rating. For someone writing a cookbook this could be really useful information that could help them choose which recipes to include because they're more likely to be enjoyed and therefore make the book more likely to be successful.\n",
    "\n",
    "First let's load the dataset. It's [available on Kaggle](https://www.kaggle.com/hugodarwood/epirecipes). We'll use the csv file here and as pull out column names and some summary statistics for ratings."
   ]
  },
  {
   "cell_type": "code",
   "execution_count": 125,
   "metadata": {},
   "outputs": [],
   "source": [
    "df = pd.read_csv(\"C:/Users/ushai/Dropbox/Data Science/Datasets/epicurious dataset/epi_r.csv\")"
   ]
  },
  {
   "cell_type": "code",
   "execution_count": 126,
   "metadata": {},
   "outputs": [
    {
     "data": {
      "text/html": [
       "<div>\n",
       "<style scoped>\n",
       "    .dataframe tbody tr th:only-of-type {\n",
       "        vertical-align: middle;\n",
       "    }\n",
       "\n",
       "    .dataframe tbody tr th {\n",
       "        vertical-align: top;\n",
       "    }\n",
       "\n",
       "    .dataframe thead th {\n",
       "        text-align: right;\n",
       "    }\n",
       "</style>\n",
       "<table border=\"1\" class=\"dataframe\">\n",
       "  <thead>\n",
       "    <tr style=\"text-align: right;\">\n",
       "      <th></th>\n",
       "      <th>title</th>\n",
       "      <th>rating</th>\n",
       "      <th>calories</th>\n",
       "      <th>protein</th>\n",
       "      <th>fat</th>\n",
       "      <th>sodium</th>\n",
       "      <th>#cakeweek</th>\n",
       "      <th>#wasteless</th>\n",
       "      <th>22-minute meals</th>\n",
       "      <th>3-ingredient recipes</th>\n",
       "      <th>...</th>\n",
       "      <th>yellow squash</th>\n",
       "      <th>yogurt</th>\n",
       "      <th>yonkers</th>\n",
       "      <th>yuca</th>\n",
       "      <th>zucchini</th>\n",
       "      <th>cookbooks</th>\n",
       "      <th>leftovers</th>\n",
       "      <th>snack</th>\n",
       "      <th>snack week</th>\n",
       "      <th>turkey</th>\n",
       "    </tr>\n",
       "  </thead>\n",
       "  <tbody>\n",
       "    <tr>\n",
       "      <th>0</th>\n",
       "      <td>Lentil, Apple, and Turkey Wrap</td>\n",
       "      <td>2.500</td>\n",
       "      <td>426.0</td>\n",
       "      <td>30.0</td>\n",
       "      <td>7.0</td>\n",
       "      <td>559.0</td>\n",
       "      <td>0.0</td>\n",
       "      <td>0.0</td>\n",
       "      <td>0.0</td>\n",
       "      <td>0.0</td>\n",
       "      <td>...</td>\n",
       "      <td>0.0</td>\n",
       "      <td>0.0</td>\n",
       "      <td>0.0</td>\n",
       "      <td>0.0</td>\n",
       "      <td>0.0</td>\n",
       "      <td>0.0</td>\n",
       "      <td>0.0</td>\n",
       "      <td>0.0</td>\n",
       "      <td>0.0</td>\n",
       "      <td>1.0</td>\n",
       "    </tr>\n",
       "    <tr>\n",
       "      <th>1</th>\n",
       "      <td>Boudin Blanc Terrine with Red Onion Confit</td>\n",
       "      <td>4.375</td>\n",
       "      <td>403.0</td>\n",
       "      <td>18.0</td>\n",
       "      <td>23.0</td>\n",
       "      <td>1439.0</td>\n",
       "      <td>0.0</td>\n",
       "      <td>0.0</td>\n",
       "      <td>0.0</td>\n",
       "      <td>0.0</td>\n",
       "      <td>...</td>\n",
       "      <td>0.0</td>\n",
       "      <td>0.0</td>\n",
       "      <td>0.0</td>\n",
       "      <td>0.0</td>\n",
       "      <td>0.0</td>\n",
       "      <td>0.0</td>\n",
       "      <td>0.0</td>\n",
       "      <td>0.0</td>\n",
       "      <td>0.0</td>\n",
       "      <td>0.0</td>\n",
       "    </tr>\n",
       "  </tbody>\n",
       "</table>\n",
       "<p>2 rows × 680 columns</p>\n",
       "</div>"
      ],
      "text/plain": [
       "                                         title  rating  calories  protein  \\\n",
       "0              Lentil, Apple, and Turkey Wrap    2.500     426.0     30.0   \n",
       "1  Boudin Blanc Terrine with Red Onion Confit    4.375     403.0     18.0   \n",
       "\n",
       "    fat  sodium  #cakeweek  #wasteless  22-minute meals  3-ingredient recipes  \\\n",
       "0   7.0   559.0        0.0         0.0              0.0                   0.0   \n",
       "1  23.0  1439.0        0.0         0.0              0.0                   0.0   \n",
       "\n",
       "    ...    yellow squash  yogurt  yonkers  yuca  zucchini  cookbooks  \\\n",
       "0   ...              0.0     0.0      0.0   0.0       0.0        0.0   \n",
       "1   ...              0.0     0.0      0.0   0.0       0.0        0.0   \n",
       "\n",
       "   leftovers  snack  snack week  turkey  \n",
       "0        0.0    0.0         0.0     1.0  \n",
       "1        0.0    0.0         0.0     0.0  \n",
       "\n",
       "[2 rows x 680 columns]"
      ]
     },
     "execution_count": 126,
     "metadata": {},
     "output_type": "execute_result"
    }
   ],
   "source": [
    "df.head(2)"
   ]
  },
  {
   "cell_type": "code",
   "execution_count": 127,
   "metadata": {},
   "outputs": [
    {
     "data": {
      "text/plain": [
       "count    20052.000000\n",
       "mean         3.714467\n",
       "std          1.340829\n",
       "min          0.000000\n",
       "25%          3.750000\n",
       "50%          4.375000\n",
       "75%          4.375000\n",
       "max          5.000000\n",
       "Name: rating, dtype: float64"
      ]
     },
     "execution_count": 127,
     "metadata": {},
     "output_type": "execute_result"
    }
   ],
   "source": [
    "# running describe() function on 'rating' column\n",
    "df.rating.describe()"
   ]
  },
  {
   "cell_type": "code",
   "execution_count": 128,
   "metadata": {},
   "outputs": [
    {
     "data": {
      "text/plain": [
       "4.375    8019\n",
       "3.750    5169\n",
       "5.000    2719\n",
       "0.000    1836\n",
       "3.125    1489\n",
       "2.500     532\n",
       "1.250     164\n",
       "1.875     124\n",
       "Name: rating, dtype: int64"
      ]
     },
     "execution_count": 128,
     "metadata": {},
     "output_type": "execute_result"
    }
   ],
   "source": [
    "# Obtain value_counts() for 'rating' column\n",
    "df.rating.value_counts()"
   ]
  },
  {
   "cell_type": "code",
   "execution_count": 129,
   "metadata": {},
   "outputs": [
    {
     "data": {
      "text/plain": [
       "(20052, 680)"
      ]
     },
     "execution_count": 129,
     "metadata": {},
     "output_type": "execute_result"
    }
   ],
   "source": [
    "df.shape"
   ]
  },
  {
   "cell_type": "code",
   "execution_count": 163,
   "metadata": {},
   "outputs": [
    {
     "data": {
      "text/plain": [
       "calories    4117\n",
       "protein     4162\n",
       "fat         4183\n",
       "sodium      4119\n",
       "dtype: int64"
      ]
     },
     "execution_count": 163,
     "metadata": {},
     "output_type": "execute_result"
    }
   ],
   "source": [
    "# Counting Null Values \n",
    "null_count = df.isnull().sum()\n",
    "null_count[null_count>0]"
   ]
  },
  {
   "cell_type": "markdown",
   "metadata": {},
   "source": [
    "### BINARY CLASSIFICATION"
   ]
  },
  {
   "cell_type": "code",
   "execution_count": 164,
   "metadata": {},
   "outputs": [],
   "source": [
    "# No Null values have been dropped\n",
    "# With Binary classification of 0 and 1\n",
    "df['rating_class'] = np.where(df.rating >= 3.7, 1,0)"
   ]
  },
  {
   "cell_type": "code",
   "execution_count": 131,
   "metadata": {},
   "outputs": [
    {
     "name": "stderr",
     "output_type": "stream",
     "text": [
      "C:\\Users\\ushai\\Anaconda3\\lib\\site-packages\\sklearn\\svm\\base.py:196: FutureWarning: The default value of gamma will change from 'auto' to 'scale' in version 0.22 to account better for unscaled features. Set gamma explicitly to 'auto' or 'scale' to avoid this warning.\n",
      "  \"avoid this warning.\", FutureWarning)\n"
     ]
    },
    {
     "data": {
      "text/plain": [
       "SVR(C=1.0, cache_size=200, coef0=0.0, degree=3, epsilon=0.1,\n",
       "  gamma='auto_deprecated', kernel='rbf', max_iter=-1, shrinking=True,\n",
       "  tol=0.001, verbose=False)"
      ]
     },
     "execution_count": 131,
     "metadata": {},
     "output_type": "execute_result"
    }
   ],
   "source": [
    "svc = SVR()\n",
    "X = df.drop(['rating','title','calories','protein','fat','sodium'],1)\n",
    "Y = df.rating_class\n",
    "svc.fit(X,Y)"
   ]
  },
  {
   "cell_type": "code",
   "execution_count": 132,
   "metadata": {},
   "outputs": [
    {
     "name": "stderr",
     "output_type": "stream",
     "text": [
      "C:\\Users\\ushai\\Anaconda3\\lib\\site-packages\\sklearn\\svm\\base.py:196: FutureWarning: The default value of gamma will change from 'auto' to 'scale' in version 0.22 to account better for unscaled features. Set gamma explicitly to 'auto' or 'scale' to avoid this warning.\n",
      "  \"avoid this warning.\", FutureWarning)\n",
      "C:\\Users\\ushai\\Anaconda3\\lib\\site-packages\\sklearn\\svm\\base.py:196: FutureWarning: The default value of gamma will change from 'auto' to 'scale' in version 0.22 to account better for unscaled features. Set gamma explicitly to 'auto' or 'scale' to avoid this warning.\n",
      "  \"avoid this warning.\", FutureWarning)\n",
      "C:\\Users\\ushai\\Anaconda3\\lib\\site-packages\\sklearn\\svm\\base.py:196: FutureWarning: The default value of gamma will change from 'auto' to 'scale' in version 0.22 to account better for unscaled features. Set gamma explicitly to 'auto' or 'scale' to avoid this warning.\n",
      "  \"avoid this warning.\", FutureWarning)\n",
      "C:\\Users\\ushai\\Anaconda3\\lib\\site-packages\\sklearn\\svm\\base.py:196: FutureWarning: The default value of gamma will change from 'auto' to 'scale' in version 0.22 to account better for unscaled features. Set gamma explicitly to 'auto' or 'scale' to avoid this warning.\n",
      "  \"avoid this warning.\", FutureWarning)\n",
      "C:\\Users\\ushai\\Anaconda3\\lib\\site-packages\\sklearn\\svm\\base.py:196: FutureWarning: The default value of gamma will change from 'auto' to 'scale' in version 0.22 to account better for unscaled features. Set gamma explicitly to 'auto' or 'scale' to avoid this warning.\n",
      "  \"avoid this warning.\", FutureWarning)\n"
     ]
    },
    {
     "data": {
      "text/plain": [
       "array([0.93881579, 0.94118854, 0.93893305, 0.94117913, 0.94225366])"
      ]
     },
     "execution_count": 132,
     "metadata": {},
     "output_type": "execute_result"
    }
   ],
   "source": [
    "svc.score(X,Y)\n",
    "cross_val_score(svc, X, Y, cv=5)"
   ]
  },
  {
   "cell_type": "markdown",
   "metadata": {},
   "source": [
    "### PERCENTAGE OF RATING CLASS "
   ]
  },
  {
   "cell_type": "code",
   "execution_count": 133,
   "metadata": {},
   "outputs": [
    {
     "data": {
      "image/png": "[encoded data removed]",
      "text/plain": [
       "<Figure size 432x432 with 1 Axes>"
      ]
     },
     "metadata": {
      "needs_background": "light"
     },
     "output_type": "display_data"
    },
    {
     "name": "stdout",
     "output_type": "stream",
     "text": [
      "percentage of Low ratings: 20.67\n",
      "percentage of High ratings: 79.33\n"
     ]
    },
    {
     "data": {
      "text/plain": [
       "<Figure size 432x288 with 0 Axes>"
      ]
     },
     "metadata": {},
     "output_type": "display_data"
    }
   ],
   "source": [
    "# Percentage for \"rating_class\"\n",
    "\n",
    "plt.figure(figsize=(6,6))\n",
    "plt.title(\"RECIPIE RATINGS\")\n",
    "sns.countplot(x='rating_class', data=df, palette = 'bright')\n",
    "plt.show()\n",
    "plt.savefig('count')\n",
    "\n",
    "Low = df[df['rating_class'] == 0].shape[0]\n",
    "High = df[df['rating_class'] == 1].shape[0]\n",
    "\n",
    "pct_Low = (Low/(Low + High))*100\n",
    "pct_High = (High/(Low + High))*100\n",
    "\n",
    "\n",
    "print(\"percentage of Low ratings:\", np.round(pct_Low,2))\n",
    "print(\"percentage of High ratings:\", np.round(pct_High,2))"
   ]
  },
  {
   "cell_type": "markdown",
   "metadata": {},
   "source": [
    "### MULTIPLE CLASSIFICATION"
   ]
  },
  {
   "cell_type": "code",
   "execution_count": 134,
   "metadata": {},
   "outputs": [],
   "source": [
    "df['rating_integer'] = df.rating.astype(int)"
   ]
  },
  {
   "cell_type": "code",
   "execution_count": 135,
   "metadata": {},
   "outputs": [
    {
     "name": "stderr",
     "output_type": "stream",
     "text": [
      "C:\\Users\\ushai\\Anaconda3\\lib\\site-packages\\sklearn\\svm\\base.py:196: FutureWarning: The default value of gamma will change from 'auto' to 'scale' in version 0.22 to account better for unscaled features. Set gamma explicitly to 'auto' or 'scale' to avoid this warning.\n",
      "  \"avoid this warning.\", FutureWarning)\n"
     ]
    },
    {
     "data": {
      "text/plain": [
       "SVR(C=1.0, cache_size=200, coef0=0.0, degree=3, epsilon=0.1,\n",
       "  gamma='auto_deprecated', kernel='rbf', max_iter=-1, shrinking=True,\n",
       "  tol=0.001, verbose=False)"
      ]
     },
     "execution_count": 135,
     "metadata": {},
     "output_type": "execute_result"
    }
   ],
   "source": [
    "X = df.drop(['rating','rating_class','title','calories','protein','fat','sodium'],1)\n",
    "Y = df.rating_integer\n",
    "svc.fit(X,Y)"
   ]
  },
  {
   "cell_type": "code",
   "execution_count": null,
   "metadata": {},
   "outputs": [],
   "source": [
    "# Make predictions on the testing set\n",
    "y_pred = lassoreg.predict(X_test)"
   ]
  },
  {
   "cell_type": "code",
   "execution_count": 136,
   "metadata": {},
   "outputs": [
    {
     "name": "stderr",
     "output_type": "stream",
     "text": [
      "C:\\Users\\ushai\\Anaconda3\\lib\\site-packages\\sklearn\\svm\\base.py:196: FutureWarning: The default value of gamma will change from 'auto' to 'scale' in version 0.22 to account better for unscaled features. Set gamma explicitly to 'auto' or 'scale' to avoid this warning.\n",
      "  \"avoid this warning.\", FutureWarning)\n",
      "C:\\Users\\ushai\\Anaconda3\\lib\\site-packages\\sklearn\\svm\\base.py:196: FutureWarning: The default value of gamma will change from 'auto' to 'scale' in version 0.22 to account better for unscaled features. Set gamma explicitly to 'auto' or 'scale' to avoid this warning.\n",
      "  \"avoid this warning.\", FutureWarning)\n",
      "C:\\Users\\ushai\\Anaconda3\\lib\\site-packages\\sklearn\\svm\\base.py:196: FutureWarning: The default value of gamma will change from 'auto' to 'scale' in version 0.22 to account better for unscaled features. Set gamma explicitly to 'auto' or 'scale' to avoid this warning.\n",
      "  \"avoid this warning.\", FutureWarning)\n",
      "C:\\Users\\ushai\\Anaconda3\\lib\\site-packages\\sklearn\\svm\\base.py:196: FutureWarning: The default value of gamma will change from 'auto' to 'scale' in version 0.22 to account better for unscaled features. Set gamma explicitly to 'auto' or 'scale' to avoid this warning.\n",
      "  \"avoid this warning.\", FutureWarning)\n",
      "C:\\Users\\ushai\\Anaconda3\\lib\\site-packages\\sklearn\\svm\\base.py:196: FutureWarning: The default value of gamma will change from 'auto' to 'scale' in version 0.22 to account better for unscaled features. Set gamma explicitly to 'auto' or 'scale' to avoid this warning.\n",
      "  \"avoid this warning.\", FutureWarning)\n"
     ]
    },
    {
     "data": {
      "text/plain": [
       "array([0.99845358, 0.99847173, 0.99845242, 0.99850286, 0.99850342])"
      ]
     },
     "execution_count": 136,
     "metadata": {},
     "output_type": "execute_result"
    }
   ],
   "source": [
    "svc.score(X,Y)\n",
    "cross_val_score(svc, X, Y, cv=5)"
   ]
  },
  {
   "cell_type": "code",
   "execution_count": 137,
   "metadata": {},
   "outputs": [
    {
     "data": {
      "text/plain": [
       "4    8019\n",
       "3    6658\n",
       "5    2719\n",
       "0    1836\n",
       "2     532\n",
       "1     288\n",
       "Name: rating_integer, dtype: int64"
      ]
     },
     "execution_count": 137,
     "metadata": {},
     "output_type": "execute_result"
    }
   ],
   "source": [
    "df.rating_integer.value_counts()"
   ]
  },
  {
   "cell_type": "markdown",
   "metadata": {},
   "source": [
    "### PERCENTAGE OF RATING INTEGER "
   ]
  },
  {
   "cell_type": "code",
   "execution_count": 138,
   "metadata": {},
   "outputs": [
    {
     "data": {
      "image/png": "[encoded data removed]",
      "text/plain": [
       "<Figure size 432x432 with 1 Axes>"
      ]
     },
     "metadata": {
      "needs_background": "light"
     },
     "output_type": "display_data"
    },
    {
     "name": "stdout",
     "output_type": "stream",
     "text": [
      "percentage of Worst ratings: 9.16\n",
      "percentage of Bad ratings: 1.44\n",
      "percentage of Low ratings: 2.65\n",
      "percentage of Medium ratings: 33.2\n",
      "percentage of High ratings: 39.99\n"
     ]
    },
    {
     "data": {
      "text/plain": [
       "<Figure size 432x288 with 0 Axes>"
      ]
     },
     "metadata": {},
     "output_type": "display_data"
    }
   ],
   "source": [
    "# Percentage for \"rating_integer\"\n",
    "\n",
    "plt.figure(figsize=(6,6))\n",
    "plt.title(\"RECIPIE RATINGS\")\n",
    "sns.countplot(x='rating_integer', data=df, palette = 'bright')\n",
    "plt.show()\n",
    "plt.savefig('count')\n",
    "\n",
    "Worst = df[df['rating_integer'] == 0].shape[0]\n",
    "Bad = df[df['rating_integer'] == 1].shape[0]\n",
    "Low = df[df['rating_integer'] == 2].shape[0]\n",
    "Medium = df[df['rating_integer'] == 3].shape[0]\n",
    "High = df[df['rating_integer'] == 4].shape[0]\n",
    "V_High = df[df['rating_integer'] == 5].shape[0]\n",
    "\n",
    "pct_Worst = (Worst/(Worst + Bad + Low + Medium + High + V_High))*100\n",
    "pct_Bad = (Bad/(Worst + Bad + Low + Medium + High + V_High))*100\n",
    "pct_Low = (Low/(Worst + Bad + Low + Medium + High + V_High))*100\n",
    "pct_Medium = (Medium/(Worst + Bad + Low + Medium + High + V_High))*100\n",
    "pct_High = (High/(Worst + Bad + Low + Medium + High + V_High))*100\n",
    "pct_V_High = (V_High/(Worst + Bad + Low + Medium + High + V_High))*100\n",
    "\n",
    "print(\"percentage of Worst ratings:\", np.round(pct_Worst,2))\n",
    "print(\"percentage of Bad ratings:\", np.round(pct_Bad,2))\n",
    "print(\"percentage of Low ratings:\", np.round(pct_Low,2))\n",
    "print(\"percentage of Medium ratings:\", np.round(pct_Medium,2))\n",
    "print(\"percentage of High ratings:\", np.round(pct_High,2))"
   ]
  },
  {
   "cell_type": "markdown",
   "metadata": {},
   "source": [
    "### RIDGE REGRESSION - FEATURE SELECTION"
   ]
  },
  {
   "cell_type": "code",
   "execution_count": 149,
   "metadata": {},
   "outputs": [],
   "source": [
    "# Choosing a model\n",
    "# As λ gets larger, the penalty for coefficient size also gets larger (Higher λ = lowered coefficent)\n",
    "# and the solution that minimizes the cost function will by necessity have smaller coefficient estimates. \n",
    "# Regularization based on the sum of the squared weights is also called \"L2 regularization\".\n",
    "\n",
    "ridge = linear_model.Ridge(alpha=1, fit_intercept=False) "
   ]
  },
  {
   "cell_type": "code",
   "execution_count": 150,
   "metadata": {},
   "outputs": [
    {
     "data": {
      "text/plain": [
       "Ridge(alpha=1, copy_X=True, fit_intercept=False, max_iter=None,\n",
       "   normalize=False, random_state=None, solver='auto', tol=0.001)"
      ]
     },
     "execution_count": 150,
     "metadata": {},
     "output_type": "execute_result"
    }
   ],
   "source": [
    "# Fitting the model\n",
    "ridge.fit(X_train, y_train)"
   ]
  },
  {
   "cell_type": "code",
   "execution_count": 151,
   "metadata": {},
   "outputs": [
    {
     "name": "stdout",
     "output_type": "stream",
     "text": [
      "R Square:0.9482935196126845\n"
     ]
    }
   ],
   "source": [
    "# R Square\n",
    "R_Square = (ridge.score(X_train, y_train))\n",
    "print (\"R Square:{}\".format(R_Square))"
   ]
  },
  {
   "cell_type": "code",
   "execution_count": 152,
   "metadata": {},
   "outputs": [
    {
     "name": "stdout",
     "output_type": "stream",
     "text": [
      "[ 3.64690065e-02  0.00000000e+00  2.07244078e-01  1.31764418e-02\n",
      " -8.86720169e-03  2.26413145e-03 -1.23523811e-01  6.89972589e-03\n",
      " -3.71211948e-02  4.64449357e-03  7.76802589e-02 -5.84244103e-02\n",
      "  1.33305619e-02  5.90182171e-02 -2.92128685e-02  7.56244787e-02\n",
      "  3.98930668e-02  4.29341042e-02  1.36723612e-01  2.64915753e-02\n",
      " -2.26869462e-03  2.63142781e-02  6.62300999e-03 -8.20278466e-02\n",
      "  4.12594848e-02  6.34944628e-02 -4.86786691e-02 -4.02888195e-02\n",
      "  8.66448144e-03  5.66341968e-02 -1.63240984e-02  4.06769592e-02\n",
      "  9.51820512e-02  4.70258819e-02  4.57520702e-02  2.94543035e-02\n",
      " -1.42113120e-02 -1.91727428e-02  5.57423252e-02  4.14624642e-02\n",
      "  8.68302074e-02  4.82570458e-02  4.02553547e-03  5.62597482e-02\n",
      "  4.04260383e-02 -2.32660505e-03  8.98138834e-03  1.39896562e-01\n",
      "  3.52426173e-02 -1.75063522e-01  4.37812801e-02 -2.08960370e-02\n",
      " -2.68398560e-04  2.29157301e-02  2.48094450e-02  1.70306535e-02\n",
      "  4.86977292e-02  1.30193260e-01  7.33046228e-02  1.89363447e-01\n",
      "  6.88393384e-02  5.39139007e-02  6.13451767e-02  1.84007464e-02\n",
      "  1.60364577e-02 -4.63408105e-02  3.04564881e-02 -3.47774151e-02\n",
      " -1.14796080e-01  1.66005853e-01  3.88962087e-02  3.21907405e-02\n",
      "  7.74946034e-02 -1.49394863e-01  2.84732446e-02 -1.07726037e-01\n",
      "  6.61337866e-03 -6.30012247e-02  2.11162007e-02 -6.23626766e-02\n",
      "  1.91027707e-02  9.63147051e-02 -3.09219274e-01 -1.49006039e-02\n",
      " -9.29040146e-02  2.06900604e-02 -1.38158001e-01  1.52962634e-02\n",
      "  4.26469037e-02  5.23721897e-02  6.42006792e-02  1.98541474e-02\n",
      "  2.30597773e-03 -1.01558680e-01  8.05464658e-02  5.89835747e-02\n",
      "  3.84502762e-02  1.03973085e-01  4.61912521e-02 -9.23872087e-03\n",
      " -8.39420485e-02  6.18449495e-03  4.03584993e-02  1.57242408e-02\n",
      "  1.59873351e-02  0.00000000e+00 -5.35930824e-02 -7.89339290e-02\n",
      "  4.97633050e-02 -4.10458289e-03  6.21600303e-02  4.71274054e-02\n",
      "  3.64341982e-02 -4.54466177e-02  6.71620450e-02  3.66218021e-02\n",
      "  7.16237711e-02  1.67871153e-02 -1.68995069e-01 -1.20382525e-01\n",
      " -2.84136791e-01  3.04458134e-03 -1.38570908e-02  5.84505977e-02\n",
      " -3.60979562e-02 -4.40956490e-03  6.80849551e-03  1.89214951e-02\n",
      "  2.27708508e-02  3.34850541e-02 -2.78850323e-02 -2.00644227e-02\n",
      " -3.14262765e-01 -4.40932400e-04  4.48364412e-02  4.30753821e-02\n",
      "  7.22717222e-02  1.27143941e-02  2.92559026e-02 -5.38277664e-02\n",
      "  8.35268996e-02  2.07823526e-02  5.00680750e-02 -1.73965157e-03\n",
      "  2.52397562e-02 -3.09587759e-02 -9.03031460e-02 -1.39728963e-01\n",
      "  1.11578314e-01  5.11034382e-02 -5.73956555e-03  2.97470533e-02\n",
      "  2.61120080e-02  0.00000000e+00  2.22937479e-02  6.71466900e-02\n",
      "  3.42743666e-02  3.55446882e-02  4.56333667e-02  2.22320291e-02\n",
      "  4.06065258e-03  0.00000000e+00  0.00000000e+00 -1.09677913e-01\n",
      "  2.18894264e-02 -7.24163674e-02 -2.08924902e-01 -2.63742991e-02\n",
      "  5.27567312e-02 -3.17675507e-01  1.47835770e-03  5.47919385e-04\n",
      "  1.76575079e-02  2.99327984e-02 -2.20691517e-02 -4.39308608e-02\n",
      "  3.22216562e-02  2.26867988e-01  2.04928987e-02  1.04423511e-03\n",
      " -4.18582513e-02  1.78519297e-01  4.85117034e-03 -5.66828391e-02\n",
      "  1.26632910e-02 -4.55323262e-04 -1.00614407e-01 -1.64082641e-01\n",
      " -2.49186498e-03  1.71221589e-02  8.60069988e-02 -6.79868468e-02\n",
      "  2.17401782e-02  1.80561923e-01  2.58363494e-02  2.55628904e-02\n",
      " -1.86450135e-01 -2.00779960e-02 -4.99746493e-02  1.99260339e-02\n",
      " -7.64545635e-02  1.49446621e-01 -1.89147925e-01 -5.08301501e-02\n",
      "  4.49547903e-02 -2.35022264e-02 -2.28520375e-02  3.92144841e-02\n",
      " -2.06852221e-02  5.86629376e-02  1.45045070e-02  4.22579490e-02\n",
      "  4.67215044e-02 -1.65180624e-01  4.24252887e-02 -1.36614521e-02\n",
      "  8.23639223e-03 -1.27373728e-02 -2.42306896e-02  3.00140258e-02\n",
      " -7.97175623e-03  0.00000000e+00 -2.57993081e-02  1.29737697e-01\n",
      " -3.75074097e-02  3.13837939e-02  1.81581644e-02 -2.80260484e-02\n",
      "  2.66707020e-02  8.26916388e-03  3.96443946e-02 -1.00926949e-02\n",
      "  1.80510687e-02  6.94943825e-02  0.00000000e+00  2.61020371e-03\n",
      "  3.76356746e-02  4.13708761e-02  7.33107495e-02 -1.66755339e-02\n",
      "  1.48960162e-01 -2.07967048e-02 -7.72963995e-03  1.32620618e-01\n",
      "  1.93355975e-03 -7.33308038e-02 -4.26370477e-02 -1.48917424e-01\n",
      "  5.99381626e-02 -3.65384498e-02 -4.93415068e-02  5.41105842e-02\n",
      "  1.43000573e-01  6.16245244e-02  1.71282723e-02 -2.85965514e-02\n",
      "  1.94865730e-01  5.00719037e-02  8.81599932e-02  1.62789067e-02\n",
      "  3.03411986e-02  3.89248827e-02 -9.70284476e-02 -4.73969303e-02\n",
      "  2.36133848e-02  4.90205492e-02  1.87848474e-02  2.61000361e-02\n",
      "  2.32925024e-02  0.00000000e+00  4.29579906e-02  4.29394544e-02\n",
      " -3.76830411e-02  2.74605007e-02  2.94096732e-02 -3.42097184e-02\n",
      "  1.48088661e-02  7.70832907e-02  6.90844450e-03  0.00000000e+00\n",
      " -1.06509126e-01 -1.08699641e-01  2.59487808e-02  3.81232044e-01\n",
      " -4.80454783e-02  0.00000000e+00  4.01630707e-02 -3.66478205e-01\n",
      "  8.97425636e-02 -7.94842821e-02  1.86033099e-01 -8.54153281e-02\n",
      "  4.06280383e-02  5.93461332e-02  7.37997800e-02 -1.76314929e-02\n",
      " -9.59749089e-02 -1.53852715e-01  5.75003423e-02 -8.58616051e-02\n",
      " -5.74391400e-02  2.42020793e-02 -1.78745760e-01  2.44252168e-02\n",
      " -3.06395941e-02 -1.81896472e-02 -1.26414846e-02  1.12009383e-01\n",
      "  0.00000000e+00  1.31640707e-02 -4.75186935e-03 -2.31282050e-02\n",
      " -2.82390778e-02  8.36030493e-02  3.20426140e-02  1.68919526e-02\n",
      " -5.57521568e-02 -2.67385513e-02 -7.97452524e-02  0.00000000e+00\n",
      "  7.95649087e-02  9.90761198e-03  1.69134660e-02 -5.86368120e-03\n",
      "  1.44626118e-02  1.69411081e-03  2.23386561e-02  5.50521442e-02\n",
      "  8.61278870e-03  4.61655155e-02  2.57283112e-03 -6.50086528e-02\n",
      "  1.24236065e-02 -2.65382225e-02 -1.18935077e-02  1.99260339e-02\n",
      "  0.00000000e+00 -6.07646305e-03  1.72371168e-02 -2.38195174e-01\n",
      "  2.21452451e-02  7.29174903e-02 -6.85960351e-02  8.46267693e-03\n",
      "  2.41912051e-02 -1.77305365e-01  8.91851828e-03  4.13521947e-02\n",
      " -3.21180490e-02 -2.52459143e-01  1.24251416e-02  1.88122460e-01\n",
      "  2.12019267e-02  4.35886278e-02  1.16072266e-02  1.40739452e-02\n",
      "  8.09369203e-02  4.10766391e-02  1.99805776e-02  3.62293370e-02\n",
      " -1.57206698e-01  2.41887552e-01 -1.18765953e-01  3.35416454e-01\n",
      "  1.83080794e-02  1.94154226e-03  1.43420512e-02 -2.46070000e-02\n",
      "  6.50277551e-02  7.78479827e-02 -4.49783896e-02  2.12947889e-02\n",
      "  2.07681772e-01  0.00000000e+00  5.90007947e-02  7.16372661e-02\n",
      " -1.46520875e-01  1.92209258e-02  6.23264726e-02 -5.99350181e-03\n",
      "  2.13528646e-02  0.00000000e+00  8.65023037e-02  9.35305176e-04\n",
      "  3.82845801e-02  4.83544385e-02 -3.25427016e-01  1.97074666e-02\n",
      " -3.28104145e-03 -2.55845566e-01  2.73756496e-02 -1.74607490e-02\n",
      "  6.97449665e-02 -3.45541131e-02  6.85287116e-02  9.34882272e-02\n",
      "  3.04748986e-02  9.26119533e-02  1.30221022e-02  7.54452428e-02\n",
      "  0.00000000e+00  7.94470753e-02  1.80832827e-02  3.07723814e-02\n",
      "  1.87379141e-01  1.90437920e-02  5.15835234e-02  2.37350525e-02\n",
      "  5.23132352e-02  3.60099723e-03  2.23905130e-02  5.09932986e-02\n",
      "  6.63501770e-02 -9.96162300e-02  5.80627624e-02 -1.57953321e-02\n",
      "  4.60600804e-02 -3.20944513e-02  5.35311369e-02  7.90875878e-03\n",
      " -1.56600873e-01  1.64251528e-01  2.41302991e-02  2.58266963e-02\n",
      " -8.38367750e-02  5.99123847e-02  4.93132748e-02 -1.16357547e-01\n",
      "  1.89375795e-01  7.08855332e-03 -3.05511715e-02  0.00000000e+00\n",
      "  9.32937692e-03  2.23061601e-02 -9.81826973e-03 -1.52877652e-02\n",
      " -3.36898047e-02  1.39775887e-01  2.80558694e-02  3.10049829e-02\n",
      "  2.19755169e-02  2.33728328e-02 -1.38784386e-02 -8.48796906e-03\n",
      " -1.02264360e-02  2.32830485e-02  8.20129763e-02 -5.53287324e-02\n",
      " -8.73965096e-02  1.64220207e-02  4.01792370e-03  3.17717137e-02\n",
      " -4.56012336e-02  3.89645071e-03  2.47093619e-02  1.11381825e-02\n",
      "  6.04515968e-02  3.63215618e-02  4.29551439e-02  1.53232777e-01\n",
      " -9.12648178e-02 -1.34442344e-01 -1.40420221e-03 -1.94342416e-01\n",
      "  1.16737465e-02 -2.40267279e-01  4.71123825e-02 -1.52355511e-01\n",
      "  1.53663760e-02 -4.48526216e-03 -6.58026824e-02  1.39051245e-02\n",
      "  1.78049122e-01  2.86822283e-02 -4.03062332e-02  4.35300116e-02\n",
      "  1.12833365e-01  4.38284553e-03 -3.15075751e-02  1.50942796e-01\n",
      " -1.90004472e-02  4.94133311e-02  9.14339433e-02  1.01501669e-01\n",
      "  9.10863550e-02  4.89614054e-02  1.97865482e-02  1.97491856e-01\n",
      "  6.34112033e-02  7.50907393e-02  3.57713200e-02  3.86945609e-02\n",
      "  4.53612226e-02  1.35545177e-01 -2.61336965e-03  1.37129451e-01\n",
      " -7.30907333e-02 -4.41085401e-03 -4.53003251e-02  1.45133582e-01\n",
      "  2.47487321e-02  0.00000000e+00  4.95432501e-02 -5.56852965e-02\n",
      "  6.61433319e-03  9.53587243e-02  1.44968899e-01 -2.13971765e-01\n",
      "  3.15743135e-02  2.50387904e-02  2.48589370e-02  9.78514423e-02\n",
      " -2.45620978e-02  1.25307292e-02 -6.51288659e-02  2.47567548e-03\n",
      " -6.66470850e-02 -4.91446844e-02  9.88107670e-02  4.85273118e-02\n",
      "  4.46206387e-02 -2.57450897e-02  1.36075800e-03  5.68576279e-02\n",
      " -1.45002892e-01 -2.23260643e-01  3.44638181e-02  8.09927906e-02\n",
      " -1.65677991e-01  5.37684375e-02  6.21337350e-02  7.24466823e-02\n",
      "  3.36214604e-02 -3.20741377e-02  7.84961925e-02 -1.13175261e-01\n",
      " -7.01156829e-02  4.69159579e-02  8.21419140e-02  7.34555065e-02\n",
      "  1.09846211e-02 -2.56015705e-01 -2.66125307e-02  3.52276822e-02\n",
      "  5.40108324e-02  4.93612771e-02  7.85208914e-02 -2.46247693e-02\n",
      " -8.91536509e-02  3.27603439e-02  1.10373564e-01  6.99026041e-02\n",
      "  4.62840647e-03 -1.15758793e-01 -2.19385055e-02  1.83670595e-02\n",
      "  3.09349485e-02  5.08938323e-02 -1.45904601e-02  5.14014599e-02\n",
      "  2.96853125e-02 -4.18839175e-03  1.02926662e-01  7.53923816e-04\n",
      " -2.23093398e-01  6.33750917e-02  3.54611448e-02 -8.44851135e-02\n",
      " -4.02060865e-02  7.82438881e-02  2.24705158e-02  0.00000000e+00\n",
      "  1.16928809e-01  2.30527243e-02 -1.42197515e-02  3.79488483e-02\n",
      " -5.56505959e-02 -7.63996281e-02  1.36526578e-02  5.36764827e-02\n",
      " -1.29184473e-02  2.90297606e-02 -8.32721575e-02 -9.70800151e-04\n",
      " -3.52186759e-02  1.13032628e-01  1.04405797e-01  4.79406004e-02\n",
      "  4.27956855e-02  4.78022604e-02  7.61398178e-02  5.45912309e-02\n",
      " -1.76210049e-02  1.81073096e-02  5.46359687e-04 -2.12438328e-02\n",
      "  1.30652380e-01  3.40707912e-02  3.75185664e-02 -9.54051920e-02\n",
      "  2.40413988e-02  7.02018459e-02 -2.43381691e-01  1.47494087e-01\n",
      " -1.74317036e-01  2.68423626e-02  1.09078844e-01 -3.95326420e-02\n",
      "  7.81569301e-02  3.49169193e-02 -1.06736160e-02  3.45569815e-02\n",
      "  1.14709253e-01  7.41729863e-02  3.45760945e-03  7.14343243e-02\n",
      "  3.43945332e-03  1.05781911e-02  2.53824958e-01  1.29102067e-03\n",
      "  2.57991687e-02  2.51299905e-02  3.17527132e-02 -8.03500977e-02\n",
      " -1.00386670e-03  1.42617999e-02  3.16541812e-02 -2.91358742e-02\n",
      "  3.43957728e-02  6.29737942e-02  5.46138332e-02  2.34515828e-02\n",
      " -3.08397603e-03  7.70580544e-02 -2.21241425e-03  3.47313982e-02\n",
      "  2.37155595e-02  2.20045765e-01 -5.44745401e-02  8.20724544e-02\n",
      "  4.47711898e-02 -1.03252693e-02  3.89815729e-02  4.30126639e-02\n",
      "  2.40457963e-02  7.74747592e-02 -3.47158998e-02  6.06799068e-02\n",
      "  5.86435161e-03 -2.45433799e-02  3.52358993e-02 -1.80463045e-02\n",
      "  0.00000000e+00  4.77254759e-02  6.04982389e-03 -2.71077137e-02\n",
      "  3.44913372e-02 -3.91058740e-02  4.39446982e-02  0.00000000e+00\n",
      "  1.46570234e-02  2.01057945e-02  1.86980361e-03  2.69490906e-02\n",
      "  3.92575934e-02  3.26931356e-02 -3.96817550e-01 -6.11455479e-02\n",
      "  1.91849409e-02  8.18390689e-02 -2.10467891e-01 -1.07618283e-01\n",
      "  1.26751144e-01 -3.10019650e-02  8.62487517e-01] 0.0\n"
     ]
    }
   ],
   "source": [
    "# Regression Coefficents\n",
    "print(ridge.coef_, ridge.intercept_)"
   ]
  },
  {
   "cell_type": "code",
   "execution_count": 153,
   "metadata": {},
   "outputs": [],
   "source": [
    "# Make predictions on the testing set\n",
    "y_pred = ridge.predict(X_test)"
   ]
  },
  {
   "cell_type": "code",
   "execution_count": 154,
   "metadata": {},
   "outputs": [
    {
     "name": "stdout",
     "output_type": "stream",
     "text": [
      "Mean Absolute Error: 0.2136984739023551\n"
     ]
    }
   ],
   "source": [
    "# Print Error's\n",
    "print (\"Mean Absolute Error: {}\".format(metrics.mean_absolute_error(y_test, y_pred)))"
   ]
  },
  {
   "cell_type": "code",
   "execution_count": 155,
   "metadata": {},
   "outputs": [],
   "source": [
    "coeff_ridge = pd.DataFrame(X_train.columns)\n",
    "coeff_ridge['Coefficient Estimate'] = pd.Series(ridge.coef_)"
   ]
  },
  {
   "cell_type": "code",
   "execution_count": 156,
   "metadata": {},
   "outputs": [
    {
     "data": {
      "text/html": [
       "<div>\n",
       "<style scoped>\n",
       "    .dataframe tbody tr th:only-of-type {\n",
       "        vertical-align: middle;\n",
       "    }\n",
       "\n",
       "    .dataframe tbody tr th {\n",
       "        vertical-align: top;\n",
       "    }\n",
       "\n",
       "    .dataframe thead th {\n",
       "        text-align: right;\n",
       "    }\n",
       "</style>\n",
       "<table border=\"1\" class=\"dataframe\">\n",
       "  <thead>\n",
       "    <tr style=\"text-align: right;\">\n",
       "      <th></th>\n",
       "      <th>0</th>\n",
       "      <th>Coefficient Estimate</th>\n",
       "    </tr>\n",
       "  </thead>\n",
       "  <tbody>\n",
       "    <tr>\n",
       "      <th>0</th>\n",
       "      <td>#cakeweek</td>\n",
       "      <td>0.036469</td>\n",
       "    </tr>\n",
       "    <tr>\n",
       "      <th>1</th>\n",
       "      <td>#wasteless</td>\n",
       "      <td>0.000000</td>\n",
       "    </tr>\n",
       "    <tr>\n",
       "      <th>2</th>\n",
       "      <td>22-minute meals</td>\n",
       "      <td>0.207244</td>\n",
       "    </tr>\n",
       "    <tr>\n",
       "      <th>3</th>\n",
       "      <td>3-ingredient recipes</td>\n",
       "      <td>0.013176</td>\n",
       "    </tr>\n",
       "    <tr>\n",
       "      <th>4</th>\n",
       "      <td>30 days of groceries</td>\n",
       "      <td>-0.008867</td>\n",
       "    </tr>\n",
       "    <tr>\n",
       "      <th>5</th>\n",
       "      <td>advance prep required</td>\n",
       "      <td>0.002264</td>\n",
       "    </tr>\n",
       "    <tr>\n",
       "      <th>6</th>\n",
       "      <td>alabama</td>\n",
       "      <td>-0.123524</td>\n",
       "    </tr>\n",
       "    <tr>\n",
       "      <th>7</th>\n",
       "      <td>alaska</td>\n",
       "      <td>0.006900</td>\n",
       "    </tr>\n",
       "    <tr>\n",
       "      <th>8</th>\n",
       "      <td>alcoholic</td>\n",
       "      <td>-0.037121</td>\n",
       "    </tr>\n",
       "    <tr>\n",
       "      <th>9</th>\n",
       "      <td>almond</td>\n",
       "      <td>0.004644</td>\n",
       "    </tr>\n",
       "    <tr>\n",
       "      <th>10</th>\n",
       "      <td>amaretto</td>\n",
       "      <td>0.077680</td>\n",
       "    </tr>\n",
       "    <tr>\n",
       "      <th>11</th>\n",
       "      <td>anchovy</td>\n",
       "      <td>-0.058424</td>\n",
       "    </tr>\n",
       "    <tr>\n",
       "      <th>12</th>\n",
       "      <td>anise</td>\n",
       "      <td>0.013331</td>\n",
       "    </tr>\n",
       "    <tr>\n",
       "      <th>13</th>\n",
       "      <td>anniversary</td>\n",
       "      <td>0.059018</td>\n",
       "    </tr>\n",
       "    <tr>\n",
       "      <th>14</th>\n",
       "      <td>anthony bourdain</td>\n",
       "      <td>-0.029213</td>\n",
       "    </tr>\n",
       "    <tr>\n",
       "      <th>15</th>\n",
       "      <td>aperitif</td>\n",
       "      <td>0.075624</td>\n",
       "    </tr>\n",
       "    <tr>\n",
       "      <th>16</th>\n",
       "      <td>appetizer</td>\n",
       "      <td>0.039893</td>\n",
       "    </tr>\n",
       "    <tr>\n",
       "      <th>17</th>\n",
       "      <td>apple</td>\n",
       "      <td>0.042934</td>\n",
       "    </tr>\n",
       "    <tr>\n",
       "      <th>18</th>\n",
       "      <td>apple juice</td>\n",
       "      <td>0.136724</td>\n",
       "    </tr>\n",
       "    <tr>\n",
       "      <th>19</th>\n",
       "      <td>apricot</td>\n",
       "      <td>0.026492</td>\n",
       "    </tr>\n",
       "    <tr>\n",
       "      <th>20</th>\n",
       "      <td>arizona</td>\n",
       "      <td>-0.002269</td>\n",
       "    </tr>\n",
       "    <tr>\n",
       "      <th>21</th>\n",
       "      <td>artichoke</td>\n",
       "      <td>0.026314</td>\n",
       "    </tr>\n",
       "    <tr>\n",
       "      <th>22</th>\n",
       "      <td>arugula</td>\n",
       "      <td>0.006623</td>\n",
       "    </tr>\n",
       "    <tr>\n",
       "      <th>23</th>\n",
       "      <td>asian pear</td>\n",
       "      <td>-0.082028</td>\n",
       "    </tr>\n",
       "    <tr>\n",
       "      <th>24</th>\n",
       "      <td>asparagus</td>\n",
       "      <td>0.041259</td>\n",
       "    </tr>\n",
       "    <tr>\n",
       "      <th>25</th>\n",
       "      <td>aspen</td>\n",
       "      <td>0.063494</td>\n",
       "    </tr>\n",
       "    <tr>\n",
       "      <th>26</th>\n",
       "      <td>atlanta</td>\n",
       "      <td>-0.048679</td>\n",
       "    </tr>\n",
       "    <tr>\n",
       "      <th>27</th>\n",
       "      <td>australia</td>\n",
       "      <td>-0.040289</td>\n",
       "    </tr>\n",
       "    <tr>\n",
       "      <th>28</th>\n",
       "      <td>avocado</td>\n",
       "      <td>0.008664</td>\n",
       "    </tr>\n",
       "    <tr>\n",
       "      <th>29</th>\n",
       "      <td>back to school</td>\n",
       "      <td>0.056634</td>\n",
       "    </tr>\n",
       "    <tr>\n",
       "      <th>...</th>\n",
       "      <td>...</td>\n",
       "      <td>...</td>\n",
       "    </tr>\n",
       "    <tr>\n",
       "      <th>645</th>\n",
       "      <td>wasabi</td>\n",
       "      <td>0.077475</td>\n",
       "    </tr>\n",
       "    <tr>\n",
       "      <th>646</th>\n",
       "      <td>washington</td>\n",
       "      <td>-0.034716</td>\n",
       "    </tr>\n",
       "    <tr>\n",
       "      <th>647</th>\n",
       "      <td>washington, d.c.</td>\n",
       "      <td>0.060680</td>\n",
       "    </tr>\n",
       "    <tr>\n",
       "      <th>648</th>\n",
       "      <td>watercress</td>\n",
       "      <td>0.005864</td>\n",
       "    </tr>\n",
       "    <tr>\n",
       "      <th>649</th>\n",
       "      <td>watermelon</td>\n",
       "      <td>-0.024543</td>\n",
       "    </tr>\n",
       "    <tr>\n",
       "      <th>650</th>\n",
       "      <td>wedding</td>\n",
       "      <td>0.035236</td>\n",
       "    </tr>\n",
       "    <tr>\n",
       "      <th>651</th>\n",
       "      <td>weelicious</td>\n",
       "      <td>-0.018046</td>\n",
       "    </tr>\n",
       "    <tr>\n",
       "      <th>652</th>\n",
       "      <td>west virginia</td>\n",
       "      <td>0.000000</td>\n",
       "    </tr>\n",
       "    <tr>\n",
       "      <th>653</th>\n",
       "      <td>westwood</td>\n",
       "      <td>0.047725</td>\n",
       "    </tr>\n",
       "    <tr>\n",
       "      <th>654</th>\n",
       "      <td>wheat/gluten-free</td>\n",
       "      <td>0.006050</td>\n",
       "    </tr>\n",
       "    <tr>\n",
       "      <th>655</th>\n",
       "      <td>whiskey</td>\n",
       "      <td>-0.027108</td>\n",
       "    </tr>\n",
       "    <tr>\n",
       "      <th>656</th>\n",
       "      <td>white wine</td>\n",
       "      <td>0.034491</td>\n",
       "    </tr>\n",
       "    <tr>\n",
       "      <th>657</th>\n",
       "      <td>whole wheat</td>\n",
       "      <td>-0.039106</td>\n",
       "    </tr>\n",
       "    <tr>\n",
       "      <th>658</th>\n",
       "      <td>wild rice</td>\n",
       "      <td>0.043945</td>\n",
       "    </tr>\n",
       "    <tr>\n",
       "      <th>659</th>\n",
       "      <td>windsor</td>\n",
       "      <td>0.000000</td>\n",
       "    </tr>\n",
       "    <tr>\n",
       "      <th>660</th>\n",
       "      <td>wine</td>\n",
       "      <td>0.014657</td>\n",
       "    </tr>\n",
       "    <tr>\n",
       "      <th>661</th>\n",
       "      <td>winter</td>\n",
       "      <td>0.020106</td>\n",
       "    </tr>\n",
       "    <tr>\n",
       "      <th>662</th>\n",
       "      <td>wisconsin</td>\n",
       "      <td>0.001870</td>\n",
       "    </tr>\n",
       "    <tr>\n",
       "      <th>663</th>\n",
       "      <td>wok</td>\n",
       "      <td>0.026949</td>\n",
       "    </tr>\n",
       "    <tr>\n",
       "      <th>664</th>\n",
       "      <td>yellow squash</td>\n",
       "      <td>0.039258</td>\n",
       "    </tr>\n",
       "    <tr>\n",
       "      <th>665</th>\n",
       "      <td>yogurt</td>\n",
       "      <td>0.032693</td>\n",
       "    </tr>\n",
       "    <tr>\n",
       "      <th>666</th>\n",
       "      <td>yonkers</td>\n",
       "      <td>-0.396818</td>\n",
       "    </tr>\n",
       "    <tr>\n",
       "      <th>667</th>\n",
       "      <td>yuca</td>\n",
       "      <td>-0.061146</td>\n",
       "    </tr>\n",
       "    <tr>\n",
       "      <th>668</th>\n",
       "      <td>zucchini</td>\n",
       "      <td>0.019185</td>\n",
       "    </tr>\n",
       "    <tr>\n",
       "      <th>669</th>\n",
       "      <td>cookbooks</td>\n",
       "      <td>0.081839</td>\n",
       "    </tr>\n",
       "    <tr>\n",
       "      <th>670</th>\n",
       "      <td>leftovers</td>\n",
       "      <td>-0.210468</td>\n",
       "    </tr>\n",
       "    <tr>\n",
       "      <th>671</th>\n",
       "      <td>snack</td>\n",
       "      <td>-0.107618</td>\n",
       "    </tr>\n",
       "    <tr>\n",
       "      <th>672</th>\n",
       "      <td>snack week</td>\n",
       "      <td>0.126751</td>\n",
       "    </tr>\n",
       "    <tr>\n",
       "      <th>673</th>\n",
       "      <td>turkey</td>\n",
       "      <td>-0.031002</td>\n",
       "    </tr>\n",
       "    <tr>\n",
       "      <th>674</th>\n",
       "      <td>rating_integer</td>\n",
       "      <td>0.862488</td>\n",
       "    </tr>\n",
       "  </tbody>\n",
       "</table>\n",
       "<p>675 rows × 2 columns</p>\n",
       "</div>"
      ],
      "text/plain": [
       "                         0  Coefficient Estimate\n",
       "0                #cakeweek              0.036469\n",
       "1               #wasteless              0.000000\n",
       "2          22-minute meals              0.207244\n",
       "3     3-ingredient recipes              0.013176\n",
       "4     30 days of groceries             -0.008867\n",
       "5    advance prep required              0.002264\n",
       "6                  alabama             -0.123524\n",
       "7                   alaska              0.006900\n",
       "8                alcoholic             -0.037121\n",
       "9                   almond              0.004644\n",
       "10                amaretto              0.077680\n",
       "11                 anchovy             -0.058424\n",
       "12                   anise              0.013331\n",
       "13             anniversary              0.059018\n",
       "14        anthony bourdain             -0.029213\n",
       "15                aperitif              0.075624\n",
       "16               appetizer              0.039893\n",
       "17                   apple              0.042934\n",
       "18             apple juice              0.136724\n",
       "19                 apricot              0.026492\n",
       "20                 arizona             -0.002269\n",
       "21               artichoke              0.026314\n",
       "22                 arugula              0.006623\n",
       "23              asian pear             -0.082028\n",
       "24               asparagus              0.041259\n",
       "25                   aspen              0.063494\n",
       "26                 atlanta             -0.048679\n",
       "27               australia             -0.040289\n",
       "28                 avocado              0.008664\n",
       "29          back to school              0.056634\n",
       "..                     ...                   ...\n",
       "645                 wasabi              0.077475\n",
       "646             washington             -0.034716\n",
       "647       washington, d.c.              0.060680\n",
       "648             watercress              0.005864\n",
       "649             watermelon             -0.024543\n",
       "650                wedding              0.035236\n",
       "651             weelicious             -0.018046\n",
       "652          west virginia              0.000000\n",
       "653               westwood              0.047725\n",
       "654      wheat/gluten-free              0.006050\n",
       "655                whiskey             -0.027108\n",
       "656             white wine              0.034491\n",
       "657            whole wheat             -0.039106\n",
       "658              wild rice              0.043945\n",
       "659                windsor              0.000000\n",
       "660                   wine              0.014657\n",
       "661                 winter              0.020106\n",
       "662              wisconsin              0.001870\n",
       "663                    wok              0.026949\n",
       "664          yellow squash              0.039258\n",
       "665                 yogurt              0.032693\n",
       "666                yonkers             -0.396818\n",
       "667                   yuca             -0.061146\n",
       "668               zucchini              0.019185\n",
       "669              cookbooks              0.081839\n",
       "670              leftovers             -0.210468\n",
       "671                  snack             -0.107618\n",
       "672             snack week              0.126751\n",
       "673                 turkey             -0.031002\n",
       "674         rating_integer              0.862488\n",
       "\n",
       "[675 rows x 2 columns]"
      ]
     },
     "execution_count": 156,
     "metadata": {},
     "output_type": "execute_result"
    }
   ],
   "source": [
    "coeff_ridge"
   ]
  },
  {
   "cell_type": "code",
   "execution_count": 161,
   "metadata": {},
   "outputs": [
    {
     "data": {
      "text/plain": [
       "<matplotlib.axes._subplots.AxesSubplot at 0x1df04299a90>"
      ]
     },
     "execution_count": 161,
     "metadata": {},
     "output_type": "execute_result"
    },
    {
     "data": {
      "image/png": "[encoded data removed]",
      "text/plain": [
       "<Figure size 1440x720 with 1 Axes>"
      ]
     },
     "metadata": {
      "needs_background": "light"
     },
     "output_type": "display_data"
    }
   ],
   "source": [
    "# checking the magnitude of coefficients\n",
    "plt.figure(figsize=(20,10))\n",
    "predictors = X_train.columns\n",
    "coef = Series(ridge.coef_,predictors).sort_values()\n",
    "coef.plot(kind='bar', title='Modal Coefficients')"
   ]
  },
  {
   "cell_type": "markdown",
   "metadata": {},
   "source": [
    "### LASSO REGRESSION - FEATURE SELECTION"
   ]
  },
  {
   "cell_type": "code",
   "execution_count": 139,
   "metadata": {},
   "outputs": [],
   "source": [
    "# running train, test split\n",
    "X_train, X_test, y_train, y_test = train_test_split(X, y, random_state=1)"
   ]
  },
  {
   "cell_type": "code",
   "execution_count": 140,
   "metadata": {},
   "outputs": [],
   "source": [
    "# Choosing a model\n",
    "lassoreg = linear_model.Lasso(alpha=1, normalize=False)"
   ]
  },
  {
   "cell_type": "code",
   "execution_count": 141,
   "metadata": {},
   "outputs": [
    {
     "data": {
      "text/plain": [
       "Lasso(alpha=1, copy_X=True, fit_intercept=True, max_iter=1000,\n",
       "   normalize=False, positive=False, precompute=False, random_state=None,\n",
       "   selection='cyclic', tol=0.0001, warm_start=False)"
      ]
     },
     "execution_count": 141,
     "metadata": {},
     "output_type": "execute_result"
    }
   ],
   "source": [
    "# Fitting the model\n",
    "lassoreg.fit(X_train, y_train)"
   ]
  },
  {
   "cell_type": "code",
   "execution_count": 142,
   "metadata": {},
   "outputs": [
    {
     "name": "stdout",
     "output_type": "stream",
     "text": [
      "R Square:0.529486468925786\n"
     ]
    }
   ],
   "source": [
    "# Logistic Regression R Square\n",
    "R_Square = (lassoreg.score(X_train, y_train))\n",
    "print (\"R Square:{}\".format(R_Square))"
   ]
  },
  {
   "cell_type": "code",
   "execution_count": 143,
   "metadata": {},
   "outputs": [
    {
     "name": "stdout",
     "output_type": "stream",
     "text": [
      "[ 0.         0.         0.        -0.         0.        -0.\n",
      " -0.        -0.        -0.         0.         0.        -0.\n",
      " -0.        -0.        -0.        -0.         0.         0.\n",
      " -0.         0.         0.        -0.         0.        -0.\n",
      "  0.         0.         0.         0.         0.         0.\n",
      "  0.         0.         0.        -0.         0.         0.\n",
      "  0.         0.         0.         0.         0.         0.\n",
      "  0.         0.         0.         0.         0.         0.\n",
      "  0.        -0.        -0.         0.         0.         0.\n",
      "  0.         0.         0.         0.        -0.         0.\n",
      " -0.         0.         0.        -0.        -0.        -0.\n",
      " -0.        -0.         0.         0.         0.         0.\n",
      "  0.        -0.        -0.        -0.         0.         0.\n",
      "  0.         0.         0.         0.         0.        -0.\n",
      " -0.         0.        -0.        -0.         0.         0.\n",
      "  0.         0.        -0.        -0.         0.        -0.\n",
      " -0.        -0.         0.         0.        -0.        -0.\n",
      " -0.         0.        -0.         0.        -0.        -0.\n",
      " -0.         0.        -0.         0.         0.        -0.\n",
      "  0.        -0.         0.         0.        -0.        -0.\n",
      " -0.         0.         0.         0.         0.         0.\n",
      "  0.        -0.        -0.         0.         0.        -0.\n",
      "  0.        -0.        -0.        -0.         0.        -0.\n",
      " -0.        -0.         0.         0.         0.        -0.\n",
      " -0.         0.        -0.        -0.        -0.         0.\n",
      " -0.         0.        -0.         0.         0.         0.\n",
      "  0.         0.        -0.         0.        -0.         0.\n",
      "  0.        -0.         0.        -0.         0.         0.\n",
      "  0.        -0.         0.         0.         0.         0.\n",
      " -0.         0.         0.        -0.         0.         0.\n",
      " -0.         0.         0.        -0.        -0.         0.\n",
      " -0.        -0.        -0.         0.        -0.         0.\n",
      "  0.        -0.         0.        -0.         0.         0.\n",
      " -0.         0.        -0.        -0.         0.         0.\n",
      "  0.         0.        -0.         0.        -0.         0.\n",
      "  0.         0.         0.        -0.         0.         0.\n",
      "  0.        -0.         0.         0.         0.         0.\n",
      "  0.         0.        -0.        -0.        -0.        -0.\n",
      "  0.        -0.        -0.         0.         0.         0.\n",
      "  0.        -0.         0.         0.         0.         0.\n",
      "  0.         0.        -0.         0.        -0.        -0.\n",
      " -0.         0.         0.        -0.         0.         0.\n",
      "  0.         0.         0.        -0.        -0.         0.\n",
      " -0.         0.         0.        -0.        -0.         0.\n",
      "  0.        -0.         0.         0.         0.         0.\n",
      " -0.         0.        -0.        -0.         0.        -0.\n",
      "  0.        -0.        -0.         0.         0.        -0.\n",
      "  0.         0.        -0.         0.         0.         0.\n",
      " -0.         0.        -0.        -0.         0.         0.\n",
      " -0.        -0.        -0.        -0.        -0.         0.\n",
      "  0.        -0.        -0.        -0.         0.        -0.\n",
      "  0.        -0.         0.         0.         0.        -0.\n",
      "  0.         0.        -0.         0.         0.        -0.\n",
      " -0.         0.        -0.         0.         0.        -0.\n",
      " -0.        -0.         0.         0.         0.         0.\n",
      " -0.        -0.        -0.        -0.         0.         0.\n",
      "  0.         0.        -0.        -0.         0.         0.\n",
      "  0.        -0.         0.        -0.        -0.         0.\n",
      "  0.        -0.        -0.         0.         0.         0.\n",
      "  0.         0.         0.        -0.        -0.         0.\n",
      "  0.         0.        -0.         0.        -0.         0.\n",
      "  0.         0.        -0.        -0.        -0.         0.\n",
      " -0.         0.        -0.         0.         0.         0.\n",
      "  0.         0.         0.         0.         0.         0.\n",
      "  0.        -0.         0.         0.         0.         0.\n",
      "  0.         0.         0.         0.        -0.         0.\n",
      "  0.         0.         0.         0.         0.         0.\n",
      " -0.         0.         0.         0.         0.        -0.\n",
      "  0.        -0.         0.        -0.         0.        -0.\n",
      " -0.         0.         0.        -0.        -0.         0.\n",
      "  0.         0.         0.        -0.        -0.         0.\n",
      " -0.        -0.         0.         0.        -0.         0.\n",
      " -0.         0.        -0.        -0.        -0.         0.\n",
      "  0.         0.         0.         0.        -0.         0.\n",
      " -0.         0.         0.        -0.         0.         0.\n",
      " -0.         0.        -0.         0.         0.         0.\n",
      "  0.         0.        -0.         0.         0.        -0.\n",
      "  0.        -0.         0.        -0.         0.        -0.\n",
      "  0.        -0.        -0.        -0.        -0.        -0.\n",
      " -0.         0.        -0.         0.         0.        -0.\n",
      " -0.         0.         0.         0.         0.         0.\n",
      " -0.         0.         0.         0.         0.         0.\n",
      "  0.         0.         0.         0.         0.         0.\n",
      " -0.         0.         0.         0.         0.        -0.\n",
      "  0.        -0.         0.        -0.        -0.        -0.\n",
      "  0.         0.         0.        -0.        -0.         0.\n",
      "  0.        -0.         0.         0.         0.         0.\n",
      "  0.         0.         0.         0.        -0.         0.\n",
      " -0.         0.         0.         0.         0.        -0.\n",
      "  0.        -0.         0.         0.         0.        -0.\n",
      "  0.        -0.        -0.         0.         0.         0.\n",
      " -0.         0.        -0.        -0.        -0.         0.\n",
      "  0.        -0.         0.         0.         0.        -0.\n",
      " -0.         0.         0.         0.        -0.        -0.\n",
      "  0.        -0.        -0.        -0.        -0.         0.\n",
      "  0.         0.         0.         0.         0.         0.\n",
      " -0.        -0.         0.         0.        -0.         0.\n",
      " -0.         0.        -0.         0.        -0.         0.\n",
      "  0.         0.         0.        -0.        -0.         0.\n",
      "  0.         0.         0.         0.         0.         0.\n",
      "  0.         0.         0.         0.        -0.         0.\n",
      "  0.         0.        -0.         0.         0.        -0.\n",
      "  0.        -0.        -0.         0.         0.         0.\n",
      "  0.        -0.         0.         0.         0.        -0.\n",
      "  0.        -0.        -0.         0.         0.         0.\n",
      "  0.         0.         0.         0.        -0.         0.\n",
      "  0.         0.         0.        -0.         0.         0.\n",
      " -0.        -0.         0.         0.        -0.         0.\n",
      "  0.         0.        -0.        -0.         0.         0.\n",
      "  0.        -0.         0.        -0.         0.         0.\n",
      " -0.         0.         0.         0.         0.        -0.\n",
      "  0.         0.         0.        -0.        -0.        -0.\n",
      " -0.         0.         0.2962352] 2.2135923557504587\n"
     ]
    }
   ],
   "source": [
    "# Regression Coefficents\n",
    "print(lassoreg.coef_, lassoreg.intercept_)"
   ]
  },
  {
   "cell_type": "code",
   "execution_count": 144,
   "metadata": {},
   "outputs": [],
   "source": [
    "# Make predictions on the testing set\n",
    "y_pred = lassoreg.predict(X_test)"
   ]
  },
  {
   "cell_type": "code",
   "execution_count": 145,
   "metadata": {},
   "outputs": [
    {
     "name": "stdout",
     "output_type": "stream",
     "text": [
      "Mean Absolute Error: 0.5572733309748635\n"
     ]
    }
   ],
   "source": [
    "# Print Error's\n",
    "print (\"Mean Absolute Error: {}\".format(metrics.mean_absolute_error(y_test, y_pred)))"
   ]
  },
  {
   "cell_type": "code",
   "execution_count": 146,
   "metadata": {},
   "outputs": [],
   "source": [
    "coeff_lasso = pd.DataFrame(X_train.columns)\n",
    "coeff_lasso['Coefficient Estimate'] = pd.Series(lassoreg.coef_)"
   ]
  },
  {
   "cell_type": "code",
   "execution_count": 147,
   "metadata": {
    "scrolled": true
   },
   "outputs": [
    {
     "data": {
      "text/html": [
       "<div>\n",
       "<style scoped>\n",
       "    .dataframe tbody tr th:only-of-type {\n",
       "        vertical-align: middle;\n",
       "    }\n",
       "\n",
       "    .dataframe tbody tr th {\n",
       "        vertical-align: top;\n",
       "    }\n",
       "\n",
       "    .dataframe thead th {\n",
       "        text-align: right;\n",
       "    }\n",
       "</style>\n",
       "<table border=\"1\" class=\"dataframe\">\n",
       "  <thead>\n",
       "    <tr style=\"text-align: right;\">\n",
       "      <th></th>\n",
       "      <th>0</th>\n",
       "      <th>Coefficient Estimate</th>\n",
       "    </tr>\n",
       "  </thead>\n",
       "  <tbody>\n",
       "    <tr>\n",
       "      <th>0</th>\n",
       "      <td>#cakeweek</td>\n",
       "      <td>0.000000</td>\n",
       "    </tr>\n",
       "    <tr>\n",
       "      <th>1</th>\n",
       "      <td>#wasteless</td>\n",
       "      <td>0.000000</td>\n",
       "    </tr>\n",
       "    <tr>\n",
       "      <th>2</th>\n",
       "      <td>22-minute meals</td>\n",
       "      <td>0.000000</td>\n",
       "    </tr>\n",
       "    <tr>\n",
       "      <th>3</th>\n",
       "      <td>3-ingredient recipes</td>\n",
       "      <td>-0.000000</td>\n",
       "    </tr>\n",
       "    <tr>\n",
       "      <th>4</th>\n",
       "      <td>30 days of groceries</td>\n",
       "      <td>0.000000</td>\n",
       "    </tr>\n",
       "    <tr>\n",
       "      <th>5</th>\n",
       "      <td>advance prep required</td>\n",
       "      <td>-0.000000</td>\n",
       "    </tr>\n",
       "    <tr>\n",
       "      <th>6</th>\n",
       "      <td>alabama</td>\n",
       "      <td>-0.000000</td>\n",
       "    </tr>\n",
       "    <tr>\n",
       "      <th>7</th>\n",
       "      <td>alaska</td>\n",
       "      <td>-0.000000</td>\n",
       "    </tr>\n",
       "    <tr>\n",
       "      <th>8</th>\n",
       "      <td>alcoholic</td>\n",
       "      <td>-0.000000</td>\n",
       "    </tr>\n",
       "    <tr>\n",
       "      <th>9</th>\n",
       "      <td>almond</td>\n",
       "      <td>0.000000</td>\n",
       "    </tr>\n",
       "    <tr>\n",
       "      <th>10</th>\n",
       "      <td>amaretto</td>\n",
       "      <td>0.000000</td>\n",
       "    </tr>\n",
       "    <tr>\n",
       "      <th>11</th>\n",
       "      <td>anchovy</td>\n",
       "      <td>-0.000000</td>\n",
       "    </tr>\n",
       "    <tr>\n",
       "      <th>12</th>\n",
       "      <td>anise</td>\n",
       "      <td>-0.000000</td>\n",
       "    </tr>\n",
       "    <tr>\n",
       "      <th>13</th>\n",
       "      <td>anniversary</td>\n",
       "      <td>-0.000000</td>\n",
       "    </tr>\n",
       "    <tr>\n",
       "      <th>14</th>\n",
       "      <td>anthony bourdain</td>\n",
       "      <td>-0.000000</td>\n",
       "    </tr>\n",
       "    <tr>\n",
       "      <th>15</th>\n",
       "      <td>aperitif</td>\n",
       "      <td>-0.000000</td>\n",
       "    </tr>\n",
       "    <tr>\n",
       "      <th>16</th>\n",
       "      <td>appetizer</td>\n",
       "      <td>0.000000</td>\n",
       "    </tr>\n",
       "    <tr>\n",
       "      <th>17</th>\n",
       "      <td>apple</td>\n",
       "      <td>0.000000</td>\n",
       "    </tr>\n",
       "    <tr>\n",
       "      <th>18</th>\n",
       "      <td>apple juice</td>\n",
       "      <td>-0.000000</td>\n",
       "    </tr>\n",
       "    <tr>\n",
       "      <th>19</th>\n",
       "      <td>apricot</td>\n",
       "      <td>0.000000</td>\n",
       "    </tr>\n",
       "    <tr>\n",
       "      <th>20</th>\n",
       "      <td>arizona</td>\n",
       "      <td>0.000000</td>\n",
       "    </tr>\n",
       "    <tr>\n",
       "      <th>21</th>\n",
       "      <td>artichoke</td>\n",
       "      <td>-0.000000</td>\n",
       "    </tr>\n",
       "    <tr>\n",
       "      <th>22</th>\n",
       "      <td>arugula</td>\n",
       "      <td>0.000000</td>\n",
       "    </tr>\n",
       "    <tr>\n",
       "      <th>23</th>\n",
       "      <td>asian pear</td>\n",
       "      <td>-0.000000</td>\n",
       "    </tr>\n",
       "    <tr>\n",
       "      <th>24</th>\n",
       "      <td>asparagus</td>\n",
       "      <td>0.000000</td>\n",
       "    </tr>\n",
       "    <tr>\n",
       "      <th>25</th>\n",
       "      <td>aspen</td>\n",
       "      <td>0.000000</td>\n",
       "    </tr>\n",
       "    <tr>\n",
       "      <th>26</th>\n",
       "      <td>atlanta</td>\n",
       "      <td>0.000000</td>\n",
       "    </tr>\n",
       "    <tr>\n",
       "      <th>27</th>\n",
       "      <td>australia</td>\n",
       "      <td>0.000000</td>\n",
       "    </tr>\n",
       "    <tr>\n",
       "      <th>28</th>\n",
       "      <td>avocado</td>\n",
       "      <td>0.000000</td>\n",
       "    </tr>\n",
       "    <tr>\n",
       "      <th>29</th>\n",
       "      <td>back to school</td>\n",
       "      <td>0.000000</td>\n",
       "    </tr>\n",
       "    <tr>\n",
       "      <th>...</th>\n",
       "      <td>...</td>\n",
       "      <td>...</td>\n",
       "    </tr>\n",
       "    <tr>\n",
       "      <th>645</th>\n",
       "      <td>wasabi</td>\n",
       "      <td>0.000000</td>\n",
       "    </tr>\n",
       "    <tr>\n",
       "      <th>646</th>\n",
       "      <td>washington</td>\n",
       "      <td>-0.000000</td>\n",
       "    </tr>\n",
       "    <tr>\n",
       "      <th>647</th>\n",
       "      <td>washington, d.c.</td>\n",
       "      <td>0.000000</td>\n",
       "    </tr>\n",
       "    <tr>\n",
       "      <th>648</th>\n",
       "      <td>watercress</td>\n",
       "      <td>0.000000</td>\n",
       "    </tr>\n",
       "    <tr>\n",
       "      <th>649</th>\n",
       "      <td>watermelon</td>\n",
       "      <td>0.000000</td>\n",
       "    </tr>\n",
       "    <tr>\n",
       "      <th>650</th>\n",
       "      <td>wedding</td>\n",
       "      <td>-0.000000</td>\n",
       "    </tr>\n",
       "    <tr>\n",
       "      <th>651</th>\n",
       "      <td>weelicious</td>\n",
       "      <td>-0.000000</td>\n",
       "    </tr>\n",
       "    <tr>\n",
       "      <th>652</th>\n",
       "      <td>west virginia</td>\n",
       "      <td>0.000000</td>\n",
       "    </tr>\n",
       "    <tr>\n",
       "      <th>653</th>\n",
       "      <td>westwood</td>\n",
       "      <td>0.000000</td>\n",
       "    </tr>\n",
       "    <tr>\n",
       "      <th>654</th>\n",
       "      <td>wheat/gluten-free</td>\n",
       "      <td>0.000000</td>\n",
       "    </tr>\n",
       "    <tr>\n",
       "      <th>655</th>\n",
       "      <td>whiskey</td>\n",
       "      <td>-0.000000</td>\n",
       "    </tr>\n",
       "    <tr>\n",
       "      <th>656</th>\n",
       "      <td>white wine</td>\n",
       "      <td>0.000000</td>\n",
       "    </tr>\n",
       "    <tr>\n",
       "      <th>657</th>\n",
       "      <td>whole wheat</td>\n",
       "      <td>-0.000000</td>\n",
       "    </tr>\n",
       "    <tr>\n",
       "      <th>658</th>\n",
       "      <td>wild rice</td>\n",
       "      <td>0.000000</td>\n",
       "    </tr>\n",
       "    <tr>\n",
       "      <th>659</th>\n",
       "      <td>windsor</td>\n",
       "      <td>0.000000</td>\n",
       "    </tr>\n",
       "    <tr>\n",
       "      <th>660</th>\n",
       "      <td>wine</td>\n",
       "      <td>-0.000000</td>\n",
       "    </tr>\n",
       "    <tr>\n",
       "      <th>661</th>\n",
       "      <td>winter</td>\n",
       "      <td>0.000000</td>\n",
       "    </tr>\n",
       "    <tr>\n",
       "      <th>662</th>\n",
       "      <td>wisconsin</td>\n",
       "      <td>0.000000</td>\n",
       "    </tr>\n",
       "    <tr>\n",
       "      <th>663</th>\n",
       "      <td>wok</td>\n",
       "      <td>0.000000</td>\n",
       "    </tr>\n",
       "    <tr>\n",
       "      <th>664</th>\n",
       "      <td>yellow squash</td>\n",
       "      <td>0.000000</td>\n",
       "    </tr>\n",
       "    <tr>\n",
       "      <th>665</th>\n",
       "      <td>yogurt</td>\n",
       "      <td>-0.000000</td>\n",
       "    </tr>\n",
       "    <tr>\n",
       "      <th>666</th>\n",
       "      <td>yonkers</td>\n",
       "      <td>0.000000</td>\n",
       "    </tr>\n",
       "    <tr>\n",
       "      <th>667</th>\n",
       "      <td>yuca</td>\n",
       "      <td>0.000000</td>\n",
       "    </tr>\n",
       "    <tr>\n",
       "      <th>668</th>\n",
       "      <td>zucchini</td>\n",
       "      <td>0.000000</td>\n",
       "    </tr>\n",
       "    <tr>\n",
       "      <th>669</th>\n",
       "      <td>cookbooks</td>\n",
       "      <td>-0.000000</td>\n",
       "    </tr>\n",
       "    <tr>\n",
       "      <th>670</th>\n",
       "      <td>leftovers</td>\n",
       "      <td>-0.000000</td>\n",
       "    </tr>\n",
       "    <tr>\n",
       "      <th>671</th>\n",
       "      <td>snack</td>\n",
       "      <td>-0.000000</td>\n",
       "    </tr>\n",
       "    <tr>\n",
       "      <th>672</th>\n",
       "      <td>snack week</td>\n",
       "      <td>-0.000000</td>\n",
       "    </tr>\n",
       "    <tr>\n",
       "      <th>673</th>\n",
       "      <td>turkey</td>\n",
       "      <td>0.000000</td>\n",
       "    </tr>\n",
       "    <tr>\n",
       "      <th>674</th>\n",
       "      <td>rating_integer</td>\n",
       "      <td>0.296235</td>\n",
       "    </tr>\n",
       "  </tbody>\n",
       "</table>\n",
       "<p>675 rows × 2 columns</p>\n",
       "</div>"
      ],
      "text/plain": [
       "                         0  Coefficient Estimate\n",
       "0                #cakeweek              0.000000\n",
       "1               #wasteless              0.000000\n",
       "2          22-minute meals              0.000000\n",
       "3     3-ingredient recipes             -0.000000\n",
       "4     30 days of groceries              0.000000\n",
       "5    advance prep required             -0.000000\n",
       "6                  alabama             -0.000000\n",
       "7                   alaska             -0.000000\n",
       "8                alcoholic             -0.000000\n",
       "9                   almond              0.000000\n",
       "10                amaretto              0.000000\n",
       "11                 anchovy             -0.000000\n",
       "12                   anise             -0.000000\n",
       "13             anniversary             -0.000000\n",
       "14        anthony bourdain             -0.000000\n",
       "15                aperitif             -0.000000\n",
       "16               appetizer              0.000000\n",
       "17                   apple              0.000000\n",
       "18             apple juice             -0.000000\n",
       "19                 apricot              0.000000\n",
       "20                 arizona              0.000000\n",
       "21               artichoke             -0.000000\n",
       "22                 arugula              0.000000\n",
       "23              asian pear             -0.000000\n",
       "24               asparagus              0.000000\n",
       "25                   aspen              0.000000\n",
       "26                 atlanta              0.000000\n",
       "27               australia              0.000000\n",
       "28                 avocado              0.000000\n",
       "29          back to school              0.000000\n",
       "..                     ...                   ...\n",
       "645                 wasabi              0.000000\n",
       "646             washington             -0.000000\n",
       "647       washington, d.c.              0.000000\n",
       "648             watercress              0.000000\n",
       "649             watermelon              0.000000\n",
       "650                wedding             -0.000000\n",
       "651             weelicious             -0.000000\n",
       "652          west virginia              0.000000\n",
       "653               westwood              0.000000\n",
       "654      wheat/gluten-free              0.000000\n",
       "655                whiskey             -0.000000\n",
       "656             white wine              0.000000\n",
       "657            whole wheat             -0.000000\n",
       "658              wild rice              0.000000\n",
       "659                windsor              0.000000\n",
       "660                   wine             -0.000000\n",
       "661                 winter              0.000000\n",
       "662              wisconsin              0.000000\n",
       "663                    wok              0.000000\n",
       "664          yellow squash              0.000000\n",
       "665                 yogurt             -0.000000\n",
       "666                yonkers              0.000000\n",
       "667                   yuca              0.000000\n",
       "668               zucchini              0.000000\n",
       "669              cookbooks             -0.000000\n",
       "670              leftovers             -0.000000\n",
       "671                  snack             -0.000000\n",
       "672             snack week             -0.000000\n",
       "673                 turkey              0.000000\n",
       "674         rating_integer              0.296235\n",
       "\n",
       "[675 rows x 2 columns]"
      ]
     },
     "execution_count": 147,
     "metadata": {},
     "output_type": "execute_result"
    }
   ],
   "source": [
    "coeff_lasso"
   ]
  },
  {
   "cell_type": "code",
   "execution_count": 160,
   "metadata": {},
   "outputs": [
    {
     "data": {
      "text/plain": [
       "<matplotlib.axes._subplots.AxesSubplot at 0x1df0376dcc0>"
      ]
     },
     "execution_count": 160,
     "metadata": {},
     "output_type": "execute_result"
    },
    {
     "data": {
      "image/png": "[encoded data removed]",
      "text/plain": [
       "<Figure size 720x720 with 1 Axes>"
      ]
     },
     "metadata": {
      "needs_background": "light"
     },
     "output_type": "display_data"
    }
   ],
   "source": [
    "# checking the magnitude of coefficients\n",
    "plt.figure(figsize=(10,10))\n",
    "predictors = X_train.columns\n",
    "coef = Series(lassoreg.coef_,predictors).sort_values()\n",
    "coef.plot(kind='bar', title='Modal Coefficients')"
   ]
  },
  {
   "cell_type": "code",
   "execution_count": null,
   "metadata": {},
   "outputs": [],
   "source": []
  }
 ],
 "metadata": {
  "kernelspec": {
   "display_name": "Python 3",
   "language": "python",
   "name": "python3"
  },
  "language_info": {
   "codemirror_mode": {
    "name": "ipython",
    "version": 3
   },
   "file_extension": ".py",
   "mimetype": "text/x-python",
   "name": "python",
   "nbconvert_exporter": "python",
   "pygments_lexer": "ipython3",
   "version": "3.7.0"
  }
 },
 "nbformat": 4,
 "nbformat_minor": 2
}
