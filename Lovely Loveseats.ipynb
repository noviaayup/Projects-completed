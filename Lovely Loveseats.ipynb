{
 "cells": [
  {
   "cell_type": "markdown",
   "metadata": {},
   "source": [
    "Create Purchasing Information and Receipts for Lovely Loveseats\n",
    "----\n",
    "\n",
    "We've decided to pursue the dream of small-business ownership and open up a furniture store called Lovely Loveseats for Neat Suites on Fleet Street. With our newfound knowledge of Python programming, we're going to build a system to help speed up the process of creating receipts for your customers.\n",
    "\n",
    "In this project, we will be storing the names and prices of a furniture store's catalog in variables. You will then process the total price and item list of customers, printing them to the output terminal."
   ]
  },
  {
   "cell_type": "code",
   "execution_count": 3,
   "metadata": {},
   "outputs": [
    {
     "name": "stdout",
     "output_type": "stream",
     "text": [
      "Customer One Items\n",
      "------------------\n",
      "Lovely Loveseat. Tufted polyster blend on wood. 32 inches high x 40 inches wide x 30 inches deep. Red or White.Luxurious Lamp. Glass and iron. 36 inches tall. Brown with cream shade.\n",
      "\n",
      "Customer One Total\n",
      "------------------\n",
      "333.09\n",
      "\n",
      "Customer Two Items\n",
      "------------------\n",
      "Stylish Settee. Faux leather on birch. 29.50 inches high x 54.75 inches wide x 28 inches deep. Black.Luxurious Lamp. Glass and iron. 36 inches tall. Brown with cream shade.\n",
      "\n",
      "Customer Two Total\n",
      "------------------\n",
      "253.0\n"
     ]
    }
   ],
   "source": [
    "import numpy as np\n",
    "\n",
    "# Product 1 description/ price\n",
    "lovely_loveseat_description =\\\n",
    "\"Lovely Loveseat. Tufted polyster blend on wood. 32 inches high x 40 inches wide x 30 inches deep. Red or White.\"\n",
    "lovely_loveseat_price = 254\n",
    "\n",
    "\n",
    "# Product 2 description/ price\n",
    "stylish_settee_description =\\\n",
    "\"Stylish Settee. Faux leather on birch. 29.50 inches high x 54.75 inches wide x 28 inches deep. Black.\"\n",
    "stylish_settee_price = 180\n",
    "\n",
    "\n",
    "# Product 3 description/ price\n",
    "luxurious_lamp_description = \"Luxurious Lamp. Glass and iron. 36 inches tall. Brown with cream shade.\"\n",
    "luxurious_lamp_price = 52.15\n",
    "\n",
    "\n",
    "# Sales Tax\n",
    "sales_tax = .088\n",
    "\n",
    "\n",
    "# Customer One Total\n",
    "customer_one_total = lovely_loveseat_price + luxurious_lamp_price\n",
    "customer_one_itemization = lovely_loveseat_description + luxurious_lamp_description\n",
    "customer_one_tax = customer_one_total * sales_tax\n",
    "customer_one_total += customer_one_tax\n",
    "\n",
    "print (\"Customer One Items\")\n",
    "print (\"------------------\")\n",
    "print (customer_one_itemization)\n",
    "print (\"\")\n",
    "print (\"Customer One Total\")\n",
    "print (\"------------------\")\n",
    "print (np.round(customer_one_total,2))\n",
    "\n",
    "\n",
    "# Customer Two Total\n",
    "customer_two_total = 180 + 52.15\n",
    "customer_two_itemization = stylish_settee_description + luxurious_lamp_description\n",
    "customer_two_tax = customer_two_total * sales_tax\n",
    "customer_two_total += customer_two_tax\n",
    "\n",
    "print (\"\")\n",
    "print (\"Customer Two Items\")\n",
    "print (\"------------------\")\n",
    "print (customer_two_itemization)\n",
    "print (\"\")\n",
    "print (\"Customer Two Total\")\n",
    "print (\"------------------\")\n",
    "print (np.round(customer_two_total))\n"
   ]
  }
 ],
 "metadata": {
  "kernelspec": {
   "display_name": "Python 3",
   "language": "python",
   "name": "python3"
  },
  "language_info": {
   "codemirror_mode": {
    "name": "ipython",
    "version": 3
   },
   "file_extension": ".py",
   "mimetype": "text/x-python",
   "name": "python",
   "nbconvert_exporter": "python",
   "pygments_lexer": "ipython3",
   "version": "3.6.4"
  }
 },
 "nbformat": 4,
 "nbformat_minor": 2
}
